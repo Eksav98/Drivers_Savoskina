{
 "cells": [
  {
   "cell_type": "code",
   "execution_count": 37,
   "id": "aaca91ec",
   "metadata": {},
   "outputs": [],
   "source": [
    "#Лучшие водители за 2022 год"
   ]
  },
  {
   "cell_type": "code",
   "execution_count": 90,
   "id": "790ed38e",
   "metadata": {},
   "outputs": [
    {
     "data": {
      "text/html": [
       "<div>\n",
       "<style scoped>\n",
       "    .dataframe tbody tr th:only-of-type {\n",
       "        vertical-align: middle;\n",
       "    }\n",
       "\n",
       "    .dataframe tbody tr th {\n",
       "        vertical-align: top;\n",
       "    }\n",
       "\n",
       "    .dataframe thead th {\n",
       "        text-align: right;\n",
       "    }\n",
       "</style>\n",
       "<table border=\"1\" class=\"dataframe\">\n",
       "  <thead>\n",
       "    <tr style=\"text-align: right;\">\n",
       "      <th></th>\n",
       "      <th>id</th>\n",
       "      <th>date</th>\n",
       "      <th>city</th>\n",
       "      <th>tariff</th>\n",
       "      <th>rating</th>\n",
       "      <th>complains</th>\n",
       "      <th>nov_trips</th>\n",
       "      <th>oct_trips</th>\n",
       "      <th>sep_trips</th>\n",
       "      <th>tips</th>\n",
       "      <th>tips_sum_nov</th>\n",
       "      <th>name</th>\n",
       "      <th>top_driver</th>\n",
       "    </tr>\n",
       "  </thead>\n",
       "  <tbody>\n",
       "    <tr>\n",
       "      <th>0</th>\n",
       "      <td>4501</td>\n",
       "      <td>2019</td>\n",
       "      <td>Москва</td>\n",
       "      <td>Эконом</td>\n",
       "      <td>4,63</td>\n",
       "      <td>Да</td>\n",
       "      <td>5257</td>\n",
       "      <td>2974</td>\n",
       "      <td>4061</td>\n",
       "      <td>Нет</td>\n",
       "      <td>р.0,00</td>\n",
       "      <td>Евгений</td>\n",
       "      <td>Нет</td>\n",
       "    </tr>\n",
       "    <tr>\n",
       "      <th>1</th>\n",
       "      <td>4502</td>\n",
       "      <td>2021</td>\n",
       "      <td>Москва</td>\n",
       "      <td>Эконом</td>\n",
       "      <td>4,64</td>\n",
       "      <td>Да</td>\n",
       "      <td>4691</td>\n",
       "      <td>5076</td>\n",
       "      <td>3899</td>\n",
       "      <td>Нет</td>\n",
       "      <td>р.0,00</td>\n",
       "      <td>Константин</td>\n",
       "      <td>Нет</td>\n",
       "    </tr>\n",
       "    <tr>\n",
       "      <th>2</th>\n",
       "      <td>4503</td>\n",
       "      <td>2016</td>\n",
       "      <td>Москва</td>\n",
       "      <td>Эконом</td>\n",
       "      <td>4,65</td>\n",
       "      <td>Да</td>\n",
       "      <td>4497</td>\n",
       "      <td>4595</td>\n",
       "      <td>2870</td>\n",
       "      <td>Нет</td>\n",
       "      <td>р.0,00</td>\n",
       "      <td>Шамиль</td>\n",
       "      <td>Нет</td>\n",
       "    </tr>\n",
       "    <tr>\n",
       "      <th>3</th>\n",
       "      <td>4504</td>\n",
       "      <td>2019</td>\n",
       "      <td>Москва</td>\n",
       "      <td>Эконом</td>\n",
       "      <td>4,66</td>\n",
       "      <td>Да</td>\n",
       "      <td>4321</td>\n",
       "      <td>4431</td>\n",
       "      <td>3445</td>\n",
       "      <td>Нет</td>\n",
       "      <td>р.0,00</td>\n",
       "      <td>Иван</td>\n",
       "      <td>Нет</td>\n",
       "    </tr>\n",
       "    <tr>\n",
       "      <th>4</th>\n",
       "      <td>4505</td>\n",
       "      <td>2022</td>\n",
       "      <td>Москва</td>\n",
       "      <td>Эконом</td>\n",
       "      <td>4,67</td>\n",
       "      <td>Да</td>\n",
       "      <td>4289</td>\n",
       "      <td>4621</td>\n",
       "      <td>4839</td>\n",
       "      <td>Нет</td>\n",
       "      <td>р.0,00</td>\n",
       "      <td>Александр</td>\n",
       "      <td>Нет</td>\n",
       "    </tr>\n",
       "  </tbody>\n",
       "</table>\n",
       "</div>"
      ],
      "text/plain": [
       "     id  date    city  tariff rating complains  nov_trips  oct_trips  \\\n",
       "0  4501  2019  Москва  Эконом   4,63        Да       5257       2974   \n",
       "1  4502  2021  Москва  Эконом   4,64        Да       4691       5076   \n",
       "2  4503  2016  Москва  Эконом   4,65        Да       4497       4595   \n",
       "3  4504  2019  Москва  Эконом   4,66        Да       4321       4431   \n",
       "4  4505  2022  Москва  Эконом   4,67        Да       4289       4621   \n",
       "\n",
       "   sep_trips tips tips_sum_nov        name top_driver  \n",
       "0       4061  Нет       р.0,00     Евгений        Нет  \n",
       "1       3899  Нет       р.0,00  Константин        Нет  \n",
       "2       2870  Нет       р.0,00      Шамиль        Нет  \n",
       "3       3445  Нет       р.0,00        Иван        Нет  \n",
       "4       4839  Нет       р.0,00   Александр        Нет  "
      ]
     },
     "execution_count": 90,
     "metadata": {},
     "output_type": "execute_result"
    }
   ],
   "source": [
    "import pandas as pd\n",
    "drivers = pd.read_csv('Downloads/DRIVERMARKETING_04 - Лист1-7.csv')\n",
    "drivers.head()"
   ]
  },
  {
   "cell_type": "code",
   "execution_count": 92,
   "id": "e9165441",
   "metadata": {},
   "outputs": [
    {
     "data": {
      "text/plain": [
       "(0, 13)"
      ]
     },
     "execution_count": 92,
     "metadata": {},
     "output_type": "execute_result"
    }
   ],
   "source": [
    "drivers[drivers['date'].isin(range(2020,2020))].shape"
   ]
  },
  {
   "cell_type": "code",
   "execution_count": 93,
   "id": "e6e1e0d3",
   "metadata": {},
   "outputs": [
    {
     "data": {
      "text/plain": [
       "101    5,00\n",
       "196    5,00\n",
       "90     5,00\n",
       "161    5,00\n",
       "152    5,00\n",
       "       ... \n",
       "64     4,64\n",
       "63     4,64\n",
       "0      4,63\n",
       "190    4,38\n",
       "191    4,38\n",
       "Name: rating, Length: 199, dtype: object"
      ]
     },
     "execution_count": 93,
     "metadata": {},
     "output_type": "execute_result"
    }
   ],
   "source": [
    "drivers['rating'].sort_values(ascending=False)"
   ]
  },
  {
   "cell_type": "code",
   "execution_count": 94,
   "id": "28ad24ef",
   "metadata": {},
   "outputs": [
    {
     "data": {
      "text/plain": [
       "46     2010\n",
       "11     2015\n",
       "2      2016\n",
       "55     2016\n",
       "195    2016\n",
       "       ... \n",
       "17     2022\n",
       "16     2022\n",
       "15     2022\n",
       "13     2022\n",
       "198    2022\n",
       "Name: date, Length: 199, dtype: int64"
      ]
     },
     "execution_count": 94,
     "metadata": {},
     "output_type": "execute_result"
    }
   ],
   "source": [
    "drivers['date'].sort_values()"
   ]
  },
  {
   "cell_type": "code",
   "execution_count": 95,
   "id": "304d38fe",
   "metadata": {},
   "outputs": [
    {
     "data": {
      "text/plain": [
       "100    5747\n",
       "0      5257\n",
       "1      4691\n",
       "101    4603\n",
       "102    4533\n",
       "       ... \n",
       "197    2873\n",
       "195    2868\n",
       "198    2867\n",
       "194    2863\n",
       "196    2849\n",
       "Name: nov_trips, Length: 199, dtype: int64"
      ]
     },
     "execution_count": 95,
     "metadata": {},
     "output_type": "execute_result"
    }
   ],
   "source": [
    "drivers['nov_trips'].sort_values(ascending=False)"
   ]
  },
  {
   "cell_type": "code",
   "execution_count": 96,
   "id": "3834b6cc",
   "metadata": {},
   "outputs": [
    {
     "data": {
      "text/html": [
       "<div>\n",
       "<style scoped>\n",
       "    .dataframe tbody tr th:only-of-type {\n",
       "        vertical-align: middle;\n",
       "    }\n",
       "\n",
       "    .dataframe tbody tr th {\n",
       "        vertical-align: top;\n",
       "    }\n",
       "\n",
       "    .dataframe thead th {\n",
       "        text-align: right;\n",
       "    }\n",
       "</style>\n",
       "<table border=\"1\" class=\"dataframe\">\n",
       "  <thead>\n",
       "    <tr style=\"text-align: right;\">\n",
       "      <th></th>\n",
       "      <th>id</th>\n",
       "      <th>date</th>\n",
       "      <th>city</th>\n",
       "      <th>tariff</th>\n",
       "      <th>rating</th>\n",
       "      <th>complains</th>\n",
       "      <th>nov_trips</th>\n",
       "      <th>oct_trips</th>\n",
       "      <th>sep_trips</th>\n",
       "      <th>tips</th>\n",
       "      <th>tips_sum_nov</th>\n",
       "      <th>name</th>\n",
       "      <th>top_driver</th>\n",
       "    </tr>\n",
       "  </thead>\n",
       "  <tbody>\n",
       "    <tr>\n",
       "      <th>101</th>\n",
       "      <td>4602</td>\n",
       "      <td>2021</td>\n",
       "      <td>Сочи</td>\n",
       "      <td>Комфорт +</td>\n",
       "      <td>5,00</td>\n",
       "      <td>Нет</td>\n",
       "      <td>4603</td>\n",
       "      <td>4667</td>\n",
       "      <td>3288</td>\n",
       "      <td>Нет</td>\n",
       "      <td>р.0,00</td>\n",
       "      <td>Руслан</td>\n",
       "      <td>Нет</td>\n",
       "    </tr>\n",
       "    <tr>\n",
       "      <th>196</th>\n",
       "      <td>4697</td>\n",
       "      <td>2017</td>\n",
       "      <td>Санкт-Петербург</td>\n",
       "      <td>Бизнес</td>\n",
       "      <td>5,00</td>\n",
       "      <td>Нет</td>\n",
       "      <td>2849</td>\n",
       "      <td>3630</td>\n",
       "      <td>3713</td>\n",
       "      <td>Да</td>\n",
       "      <td>р.31 000,00</td>\n",
       "      <td>Вадим</td>\n",
       "      <td>Нет</td>\n",
       "    </tr>\n",
       "    <tr>\n",
       "      <th>90</th>\n",
       "      <td>4591</td>\n",
       "      <td>2021</td>\n",
       "      <td>Москва</td>\n",
       "      <td>Комфорт +</td>\n",
       "      <td>5,00</td>\n",
       "      <td>Нет</td>\n",
       "      <td>3334</td>\n",
       "      <td>2686</td>\n",
       "      <td>3369</td>\n",
       "      <td>Нет</td>\n",
       "      <td>р.0,00</td>\n",
       "      <td>Илья</td>\n",
       "      <td>Нет</td>\n",
       "    </tr>\n",
       "    <tr>\n",
       "      <th>161</th>\n",
       "      <td>4662</td>\n",
       "      <td>2020</td>\n",
       "      <td>Казань</td>\n",
       "      <td>Комфорт</td>\n",
       "      <td>5,00</td>\n",
       "      <td>Нет</td>\n",
       "      <td>3058</td>\n",
       "      <td>2774</td>\n",
       "      <td>3316</td>\n",
       "      <td>Да</td>\n",
       "      <td>р.10 000,00</td>\n",
       "      <td>Сергей</td>\n",
       "      <td>Да</td>\n",
       "    </tr>\n",
       "    <tr>\n",
       "      <th>152</th>\n",
       "      <td>4653</td>\n",
       "      <td>2020</td>\n",
       "      <td>Казань</td>\n",
       "      <td>Бизнес</td>\n",
       "      <td>5,00</td>\n",
       "      <td>Нет</td>\n",
       "      <td>3160</td>\n",
       "      <td>4256</td>\n",
       "      <td>4229</td>\n",
       "      <td>Да</td>\n",
       "      <td>р.13 000,00</td>\n",
       "      <td>Андрей</td>\n",
       "      <td>Да</td>\n",
       "    </tr>\n",
       "    <tr>\n",
       "      <th>...</th>\n",
       "      <td>...</td>\n",
       "      <td>...</td>\n",
       "      <td>...</td>\n",
       "      <td>...</td>\n",
       "      <td>...</td>\n",
       "      <td>...</td>\n",
       "      <td>...</td>\n",
       "      <td>...</td>\n",
       "      <td>...</td>\n",
       "      <td>...</td>\n",
       "      <td>...</td>\n",
       "      <td>...</td>\n",
       "      <td>...</td>\n",
       "    </tr>\n",
       "    <tr>\n",
       "      <th>64</th>\n",
       "      <td>4565</td>\n",
       "      <td>2020</td>\n",
       "      <td>Тюмень</td>\n",
       "      <td>Эконом</td>\n",
       "      <td>4,64</td>\n",
       "      <td>Нет</td>\n",
       "      <td>3501</td>\n",
       "      <td>5002</td>\n",
       "      <td>4671</td>\n",
       "      <td>Да</td>\n",
       "      <td>р.400,00</td>\n",
       "      <td>Петр</td>\n",
       "      <td>Нет</td>\n",
       "    </tr>\n",
       "    <tr>\n",
       "      <th>63</th>\n",
       "      <td>4564</td>\n",
       "      <td>2021</td>\n",
       "      <td>Тюмень</td>\n",
       "      <td>Эконом</td>\n",
       "      <td>4,64</td>\n",
       "      <td>Нет</td>\n",
       "      <td>3489</td>\n",
       "      <td>4103</td>\n",
       "      <td>3338</td>\n",
       "      <td>Да</td>\n",
       "      <td>р.300,00</td>\n",
       "      <td>Александр</td>\n",
       "      <td>Нет</td>\n",
       "    </tr>\n",
       "    <tr>\n",
       "      <th>0</th>\n",
       "      <td>4501</td>\n",
       "      <td>2019</td>\n",
       "      <td>Москва</td>\n",
       "      <td>Эконом</td>\n",
       "      <td>4,63</td>\n",
       "      <td>Да</td>\n",
       "      <td>5257</td>\n",
       "      <td>2974</td>\n",
       "      <td>4061</td>\n",
       "      <td>Нет</td>\n",
       "      <td>р.0,00</td>\n",
       "      <td>Евгений</td>\n",
       "      <td>Нет</td>\n",
       "    </tr>\n",
       "    <tr>\n",
       "      <th>190</th>\n",
       "      <td>4691</td>\n",
       "      <td>2017</td>\n",
       "      <td>Москва</td>\n",
       "      <td>Эконом</td>\n",
       "      <td>4,38</td>\n",
       "      <td>Да</td>\n",
       "      <td>2923</td>\n",
       "      <td>2561</td>\n",
       "      <td>4921</td>\n",
       "      <td>Нет</td>\n",
       "      <td>р.0,00</td>\n",
       "      <td>Валерий</td>\n",
       "      <td>Нет</td>\n",
       "    </tr>\n",
       "    <tr>\n",
       "      <th>191</th>\n",
       "      <td>4692</td>\n",
       "      <td>2020</td>\n",
       "      <td>Москва</td>\n",
       "      <td>Эконом</td>\n",
       "      <td>4,38</td>\n",
       "      <td>Да</td>\n",
       "      <td>2898</td>\n",
       "      <td>3089</td>\n",
       "      <td>3179</td>\n",
       "      <td>Нет</td>\n",
       "      <td>р.0,00</td>\n",
       "      <td>Даниил</td>\n",
       "      <td>Нет</td>\n",
       "    </tr>\n",
       "  </tbody>\n",
       "</table>\n",
       "<p>199 rows × 13 columns</p>\n",
       "</div>"
      ],
      "text/plain": [
       "       id  date             city     tariff rating complains  nov_trips  \\\n",
       "101  4602  2021             Сочи  Комфорт +   5,00       Нет       4603   \n",
       "196  4697  2017  Санкт-Петербург     Бизнес   5,00       Нет       2849   \n",
       "90   4591  2021           Москва  Комфорт +   5,00       Нет       3334   \n",
       "161  4662  2020           Казань    Комфорт   5,00       Нет       3058   \n",
       "152  4653  2020           Казань     Бизнес   5,00       Нет       3160   \n",
       "..    ...   ...              ...        ...    ...       ...        ...   \n",
       "64   4565  2020           Тюмень     Эконом   4,64       Нет       3501   \n",
       "63   4564  2021           Тюмень     Эконом   4,64       Нет       3489   \n",
       "0    4501  2019           Москва     Эконом   4,63        Да       5257   \n",
       "190  4691  2017           Москва     Эконом   4,38        Да       2923   \n",
       "191  4692  2020           Москва     Эконом   4,38        Да       2898   \n",
       "\n",
       "     oct_trips  sep_trips tips tips_sum_nov       name top_driver  \n",
       "101       4667       3288  Нет       р.0,00     Руслан        Нет  \n",
       "196       3630       3713   Да  р.31 000,00      Вадим        Нет  \n",
       "90        2686       3369  Нет       р.0,00       Илья        Нет  \n",
       "161       2774       3316   Да  р.10 000,00     Сергей         Да  \n",
       "152       4256       4229   Да  р.13 000,00     Андрей         Да  \n",
       "..         ...        ...  ...          ...        ...        ...  \n",
       "64        5002       4671   Да     р.400,00       Петр        Нет  \n",
       "63        4103       3338   Да     р.300,00  Александр        Нет  \n",
       "0         2974       4061  Нет       р.0,00    Евгений        Нет  \n",
       "190       2561       4921  Нет       р.0,00    Валерий        Нет  \n",
       "191       3089       3179  Нет       р.0,00     Даниил        Нет  \n",
       "\n",
       "[199 rows x 13 columns]"
      ]
     },
     "execution_count": 96,
     "metadata": {},
     "output_type": "execute_result"
    }
   ],
   "source": [
    "drivers.sort_values(by=['rating'], ascending=False)"
   ]
  },
  {
   "cell_type": "code",
   "execution_count": null,
   "id": "6044a83d",
   "metadata": {},
   "outputs": [],
   "source": [
    "# отсортируем "
   ]
  },
  {
   "cell_type": "code",
   "execution_count": 97,
   "id": "c704944b",
   "metadata": {},
   "outputs": [
    {
     "data": {
      "text/html": [
       "<div>\n",
       "<style scoped>\n",
       "    .dataframe tbody tr th:only-of-type {\n",
       "        vertical-align: middle;\n",
       "    }\n",
       "\n",
       "    .dataframe tbody tr th {\n",
       "        vertical-align: top;\n",
       "    }\n",
       "\n",
       "    .dataframe thead th {\n",
       "        text-align: right;\n",
       "    }\n",
       "</style>\n",
       "<table border=\"1\" class=\"dataframe\">\n",
       "  <thead>\n",
       "    <tr style=\"text-align: right;\">\n",
       "      <th></th>\n",
       "      <th>id</th>\n",
       "      <th>date</th>\n",
       "      <th>city</th>\n",
       "      <th>tariff</th>\n",
       "      <th>rating</th>\n",
       "      <th>complains</th>\n",
       "      <th>nov_trips</th>\n",
       "      <th>oct_trips</th>\n",
       "      <th>sep_trips</th>\n",
       "      <th>tips</th>\n",
       "      <th>tips_sum_nov</th>\n",
       "      <th>name</th>\n",
       "      <th>top_driver</th>\n",
       "    </tr>\n",
       "  </thead>\n",
       "  <tbody>\n",
       "    <tr>\n",
       "      <th>101</th>\n",
       "      <td>4602</td>\n",
       "      <td>2021</td>\n",
       "      <td>Сочи</td>\n",
       "      <td>Комфорт +</td>\n",
       "      <td>5,00</td>\n",
       "      <td>Нет</td>\n",
       "      <td>4603</td>\n",
       "      <td>4667</td>\n",
       "      <td>3288</td>\n",
       "      <td>Нет</td>\n",
       "      <td>р.0,00</td>\n",
       "      <td>Руслан</td>\n",
       "      <td>Нет</td>\n",
       "    </tr>\n",
       "    <tr>\n",
       "      <th>116</th>\n",
       "      <td>4617</td>\n",
       "      <td>2018</td>\n",
       "      <td>Сочи</td>\n",
       "      <td>Комфорт +</td>\n",
       "      <td>5,00</td>\n",
       "      <td>Нет</td>\n",
       "      <td>3726</td>\n",
       "      <td>5180</td>\n",
       "      <td>3658</td>\n",
       "      <td>Нет</td>\n",
       "      <td>р.0,00</td>\n",
       "      <td>Дмитрий</td>\n",
       "      <td>Нет</td>\n",
       "    </tr>\n",
       "    <tr>\n",
       "      <th>90</th>\n",
       "      <td>4591</td>\n",
       "      <td>2021</td>\n",
       "      <td>Москва</td>\n",
       "      <td>Комфорт +</td>\n",
       "      <td>5,00</td>\n",
       "      <td>Нет</td>\n",
       "      <td>3334</td>\n",
       "      <td>2686</td>\n",
       "      <td>3369</td>\n",
       "      <td>Нет</td>\n",
       "      <td>р.0,00</td>\n",
       "      <td>Илья</td>\n",
       "      <td>Нет</td>\n",
       "    </tr>\n",
       "    <tr>\n",
       "      <th>152</th>\n",
       "      <td>4653</td>\n",
       "      <td>2020</td>\n",
       "      <td>Казань</td>\n",
       "      <td>Бизнес</td>\n",
       "      <td>5,00</td>\n",
       "      <td>Нет</td>\n",
       "      <td>3160</td>\n",
       "      <td>4256</td>\n",
       "      <td>4229</td>\n",
       "      <td>Да</td>\n",
       "      <td>р.13 000,00</td>\n",
       "      <td>Андрей</td>\n",
       "      <td>Да</td>\n",
       "    </tr>\n",
       "    <tr>\n",
       "      <th>161</th>\n",
       "      <td>4662</td>\n",
       "      <td>2020</td>\n",
       "      <td>Казань</td>\n",
       "      <td>Комфорт</td>\n",
       "      <td>5,00</td>\n",
       "      <td>Нет</td>\n",
       "      <td>3058</td>\n",
       "      <td>2774</td>\n",
       "      <td>3316</td>\n",
       "      <td>Да</td>\n",
       "      <td>р.10 000,00</td>\n",
       "      <td>Сергей</td>\n",
       "      <td>Да</td>\n",
       "    </tr>\n",
       "    <tr>\n",
       "      <th>...</th>\n",
       "      <td>...</td>\n",
       "      <td>...</td>\n",
       "      <td>...</td>\n",
       "      <td>...</td>\n",
       "      <td>...</td>\n",
       "      <td>...</td>\n",
       "      <td>...</td>\n",
       "      <td>...</td>\n",
       "      <td>...</td>\n",
       "      <td>...</td>\n",
       "      <td>...</td>\n",
       "      <td>...</td>\n",
       "      <td>...</td>\n",
       "    </tr>\n",
       "    <tr>\n",
       "      <th>74</th>\n",
       "      <td>4575</td>\n",
       "      <td>2021</td>\n",
       "      <td>Тюмень</td>\n",
       "      <td>Эконом</td>\n",
       "      <td>4,64</td>\n",
       "      <td>Нет</td>\n",
       "      <td>3431</td>\n",
       "      <td>3099</td>\n",
       "      <td>4512</td>\n",
       "      <td>Да</td>\n",
       "      <td>р.290,00</td>\n",
       "      <td>Павел</td>\n",
       "      <td>Нет</td>\n",
       "    </tr>\n",
       "    <tr>\n",
       "      <th>75</th>\n",
       "      <td>4576</td>\n",
       "      <td>2021</td>\n",
       "      <td>Тюмень</td>\n",
       "      <td>Эконом</td>\n",
       "      <td>4,64</td>\n",
       "      <td>Нет</td>\n",
       "      <td>3419</td>\n",
       "      <td>3207</td>\n",
       "      <td>2918</td>\n",
       "      <td>Да</td>\n",
       "      <td>р.102,00</td>\n",
       "      <td>Павел</td>\n",
       "      <td>Нет</td>\n",
       "    </tr>\n",
       "    <tr>\n",
       "      <th>0</th>\n",
       "      <td>4501</td>\n",
       "      <td>2019</td>\n",
       "      <td>Москва</td>\n",
       "      <td>Эконом</td>\n",
       "      <td>4,63</td>\n",
       "      <td>Да</td>\n",
       "      <td>5257</td>\n",
       "      <td>2974</td>\n",
       "      <td>4061</td>\n",
       "      <td>Нет</td>\n",
       "      <td>р.0,00</td>\n",
       "      <td>Евгений</td>\n",
       "      <td>Нет</td>\n",
       "    </tr>\n",
       "    <tr>\n",
       "      <th>190</th>\n",
       "      <td>4691</td>\n",
       "      <td>2017</td>\n",
       "      <td>Москва</td>\n",
       "      <td>Эконом</td>\n",
       "      <td>4,38</td>\n",
       "      <td>Да</td>\n",
       "      <td>2923</td>\n",
       "      <td>2561</td>\n",
       "      <td>4921</td>\n",
       "      <td>Нет</td>\n",
       "      <td>р.0,00</td>\n",
       "      <td>Валерий</td>\n",
       "      <td>Нет</td>\n",
       "    </tr>\n",
       "    <tr>\n",
       "      <th>191</th>\n",
       "      <td>4692</td>\n",
       "      <td>2020</td>\n",
       "      <td>Москва</td>\n",
       "      <td>Эконом</td>\n",
       "      <td>4,38</td>\n",
       "      <td>Да</td>\n",
       "      <td>2898</td>\n",
       "      <td>3089</td>\n",
       "      <td>3179</td>\n",
       "      <td>Нет</td>\n",
       "      <td>р.0,00</td>\n",
       "      <td>Даниил</td>\n",
       "      <td>Нет</td>\n",
       "    </tr>\n",
       "  </tbody>\n",
       "</table>\n",
       "<p>199 rows × 13 columns</p>\n",
       "</div>"
      ],
      "text/plain": [
       "       id  date    city     tariff rating complains  nov_trips  oct_trips  \\\n",
       "101  4602  2021    Сочи  Комфорт +   5,00       Нет       4603       4667   \n",
       "116  4617  2018    Сочи  Комфорт +   5,00       Нет       3726       5180   \n",
       "90   4591  2021  Москва  Комфорт +   5,00       Нет       3334       2686   \n",
       "152  4653  2020  Казань     Бизнес   5,00       Нет       3160       4256   \n",
       "161  4662  2020  Казань    Комфорт   5,00       Нет       3058       2774   \n",
       "..    ...   ...     ...        ...    ...       ...        ...        ...   \n",
       "74   4575  2021  Тюмень     Эконом   4,64       Нет       3431       3099   \n",
       "75   4576  2021  Тюмень     Эконом   4,64       Нет       3419       3207   \n",
       "0    4501  2019  Москва     Эконом   4,63        Да       5257       2974   \n",
       "190  4691  2017  Москва     Эконом   4,38        Да       2923       2561   \n",
       "191  4692  2020  Москва     Эконом   4,38        Да       2898       3089   \n",
       "\n",
       "     sep_trips tips tips_sum_nov     name top_driver  \n",
       "101       3288  Нет       р.0,00   Руслан        Нет  \n",
       "116       3658  Нет       р.0,00  Дмитрий        Нет  \n",
       "90        3369  Нет       р.0,00     Илья        Нет  \n",
       "152       4229   Да  р.13 000,00   Андрей         Да  \n",
       "161       3316   Да  р.10 000,00   Сергей         Да  \n",
       "..         ...  ...          ...      ...        ...  \n",
       "74        4512   Да     р.290,00    Павел        Нет  \n",
       "75        2918   Да     р.102,00    Павел        Нет  \n",
       "0         4061  Нет       р.0,00  Евгений        Нет  \n",
       "190       4921  Нет       р.0,00  Валерий        Нет  \n",
       "191       3179  Нет       р.0,00   Даниил        Нет  \n",
       "\n",
       "[199 rows x 13 columns]"
      ]
     },
     "execution_count": 97,
     "metadata": {},
     "output_type": "execute_result"
    }
   ],
   "source": [
    "drivers.sort_values(by=['rating','nov_trips'], ascending=[False,False])"
   ]
  },
  {
   "cell_type": "code",
   "execution_count": 98,
   "id": "eeb21500",
   "metadata": {},
   "outputs": [],
   "source": [
    "drivers['Trips_Number_Q4'] = drivers['sep_trips'] + drivers['oct_trips'] + drivers['nov_trips']"
   ]
  },
  {
   "cell_type": "code",
   "execution_count": 99,
   "id": "a636f78f",
   "metadata": {},
   "outputs": [
    {
     "data": {
      "text/html": [
       "<div>\n",
       "<style scoped>\n",
       "    .dataframe tbody tr th:only-of-type {\n",
       "        vertical-align: middle;\n",
       "    }\n",
       "\n",
       "    .dataframe tbody tr th {\n",
       "        vertical-align: top;\n",
       "    }\n",
       "\n",
       "    .dataframe thead th {\n",
       "        text-align: right;\n",
       "    }\n",
       "</style>\n",
       "<table border=\"1\" class=\"dataframe\">\n",
       "  <thead>\n",
       "    <tr style=\"text-align: right;\">\n",
       "      <th></th>\n",
       "      <th>id</th>\n",
       "      <th>date</th>\n",
       "      <th>city</th>\n",
       "      <th>tariff</th>\n",
       "      <th>rating</th>\n",
       "      <th>complains</th>\n",
       "      <th>nov_trips</th>\n",
       "      <th>oct_trips</th>\n",
       "      <th>sep_trips</th>\n",
       "      <th>tips</th>\n",
       "      <th>tips_sum_nov</th>\n",
       "      <th>name</th>\n",
       "      <th>top_driver</th>\n",
       "      <th>Trips_Number_Q4</th>\n",
       "    </tr>\n",
       "  </thead>\n",
       "  <tbody>\n",
       "    <tr>\n",
       "      <th>0</th>\n",
       "      <td>4501</td>\n",
       "      <td>2019</td>\n",
       "      <td>Москва</td>\n",
       "      <td>Эконом</td>\n",
       "      <td>4,63</td>\n",
       "      <td>Да</td>\n",
       "      <td>5257</td>\n",
       "      <td>2974</td>\n",
       "      <td>4061</td>\n",
       "      <td>Нет</td>\n",
       "      <td>р.0,00</td>\n",
       "      <td>Евгений</td>\n",
       "      <td>Нет</td>\n",
       "      <td>12292</td>\n",
       "    </tr>\n",
       "    <tr>\n",
       "      <th>1</th>\n",
       "      <td>4502</td>\n",
       "      <td>2021</td>\n",
       "      <td>Москва</td>\n",
       "      <td>Эконом</td>\n",
       "      <td>4,64</td>\n",
       "      <td>Да</td>\n",
       "      <td>4691</td>\n",
       "      <td>5076</td>\n",
       "      <td>3899</td>\n",
       "      <td>Нет</td>\n",
       "      <td>р.0,00</td>\n",
       "      <td>Константин</td>\n",
       "      <td>Нет</td>\n",
       "      <td>13666</td>\n",
       "    </tr>\n",
       "    <tr>\n",
       "      <th>2</th>\n",
       "      <td>4503</td>\n",
       "      <td>2016</td>\n",
       "      <td>Москва</td>\n",
       "      <td>Эконом</td>\n",
       "      <td>4,65</td>\n",
       "      <td>Да</td>\n",
       "      <td>4497</td>\n",
       "      <td>4595</td>\n",
       "      <td>2870</td>\n",
       "      <td>Нет</td>\n",
       "      <td>р.0,00</td>\n",
       "      <td>Шамиль</td>\n",
       "      <td>Нет</td>\n",
       "      <td>11962</td>\n",
       "    </tr>\n",
       "    <tr>\n",
       "      <th>3</th>\n",
       "      <td>4504</td>\n",
       "      <td>2019</td>\n",
       "      <td>Москва</td>\n",
       "      <td>Эконом</td>\n",
       "      <td>4,66</td>\n",
       "      <td>Да</td>\n",
       "      <td>4321</td>\n",
       "      <td>4431</td>\n",
       "      <td>3445</td>\n",
       "      <td>Нет</td>\n",
       "      <td>р.0,00</td>\n",
       "      <td>Иван</td>\n",
       "      <td>Нет</td>\n",
       "      <td>12197</td>\n",
       "    </tr>\n",
       "    <tr>\n",
       "      <th>4</th>\n",
       "      <td>4505</td>\n",
       "      <td>2022</td>\n",
       "      <td>Москва</td>\n",
       "      <td>Эконом</td>\n",
       "      <td>4,67</td>\n",
       "      <td>Да</td>\n",
       "      <td>4289</td>\n",
       "      <td>4621</td>\n",
       "      <td>4839</td>\n",
       "      <td>Нет</td>\n",
       "      <td>р.0,00</td>\n",
       "      <td>Александр</td>\n",
       "      <td>Нет</td>\n",
       "      <td>13749</td>\n",
       "    </tr>\n",
       "  </tbody>\n",
       "</table>\n",
       "</div>"
      ],
      "text/plain": [
       "     id  date    city  tariff rating complains  nov_trips  oct_trips  \\\n",
       "0  4501  2019  Москва  Эконом   4,63        Да       5257       2974   \n",
       "1  4502  2021  Москва  Эконом   4,64        Да       4691       5076   \n",
       "2  4503  2016  Москва  Эконом   4,65        Да       4497       4595   \n",
       "3  4504  2019  Москва  Эконом   4,66        Да       4321       4431   \n",
       "4  4505  2022  Москва  Эконом   4,67        Да       4289       4621   \n",
       "\n",
       "   sep_trips tips tips_sum_nov        name top_driver  Trips_Number_Q4  \n",
       "0       4061  Нет       р.0,00     Евгений        Нет            12292  \n",
       "1       3899  Нет       р.0,00  Константин        Нет            13666  \n",
       "2       2870  Нет       р.0,00      Шамиль        Нет            11962  \n",
       "3       3445  Нет       р.0,00        Иван        Нет            12197  \n",
       "4       4839  Нет       р.0,00   Александр        Нет            13749  "
      ]
     },
     "execution_count": 99,
     "metadata": {},
     "output_type": "execute_result"
    }
   ],
   "source": [
    "drivers.head()"
   ]
  },
  {
   "cell_type": "code",
   "execution_count": 100,
   "id": "737bf4c1",
   "metadata": {},
   "outputs": [
    {
     "data": {
      "text/html": [
       "<div>\n",
       "<style scoped>\n",
       "    .dataframe tbody tr th:only-of-type {\n",
       "        vertical-align: middle;\n",
       "    }\n",
       "\n",
       "    .dataframe tbody tr th {\n",
       "        vertical-align: top;\n",
       "    }\n",
       "\n",
       "    .dataframe thead th {\n",
       "        text-align: right;\n",
       "    }\n",
       "</style>\n",
       "<table border=\"1\" class=\"dataframe\">\n",
       "  <thead>\n",
       "    <tr style=\"text-align: right;\">\n",
       "      <th></th>\n",
       "      <th>id</th>\n",
       "      <th>date</th>\n",
       "      <th>city</th>\n",
       "      <th>tariff</th>\n",
       "      <th>rating</th>\n",
       "      <th>complains</th>\n",
       "      <th>nov_trips</th>\n",
       "      <th>oct_trips</th>\n",
       "      <th>sep_trips</th>\n",
       "      <th>tips</th>\n",
       "      <th>name</th>\n",
       "      <th>top_driver</th>\n",
       "      <th>Trips_Number_Q4</th>\n",
       "    </tr>\n",
       "  </thead>\n",
       "  <tbody>\n",
       "    <tr>\n",
       "      <th>0</th>\n",
       "      <td>4501</td>\n",
       "      <td>2019</td>\n",
       "      <td>Москва</td>\n",
       "      <td>Эконом</td>\n",
       "      <td>4,63</td>\n",
       "      <td>Да</td>\n",
       "      <td>5257</td>\n",
       "      <td>2974</td>\n",
       "      <td>4061</td>\n",
       "      <td>Нет</td>\n",
       "      <td>Евгений</td>\n",
       "      <td>Нет</td>\n",
       "      <td>12292</td>\n",
       "    </tr>\n",
       "    <tr>\n",
       "      <th>1</th>\n",
       "      <td>4502</td>\n",
       "      <td>2021</td>\n",
       "      <td>Москва</td>\n",
       "      <td>Эконом</td>\n",
       "      <td>4,64</td>\n",
       "      <td>Да</td>\n",
       "      <td>4691</td>\n",
       "      <td>5076</td>\n",
       "      <td>3899</td>\n",
       "      <td>Нет</td>\n",
       "      <td>Константин</td>\n",
       "      <td>Нет</td>\n",
       "      <td>13666</td>\n",
       "    </tr>\n",
       "    <tr>\n",
       "      <th>2</th>\n",
       "      <td>4503</td>\n",
       "      <td>2016</td>\n",
       "      <td>Москва</td>\n",
       "      <td>Эконом</td>\n",
       "      <td>4,65</td>\n",
       "      <td>Да</td>\n",
       "      <td>4497</td>\n",
       "      <td>4595</td>\n",
       "      <td>2870</td>\n",
       "      <td>Нет</td>\n",
       "      <td>Шамиль</td>\n",
       "      <td>Нет</td>\n",
       "      <td>11962</td>\n",
       "    </tr>\n",
       "    <tr>\n",
       "      <th>3</th>\n",
       "      <td>4504</td>\n",
       "      <td>2019</td>\n",
       "      <td>Москва</td>\n",
       "      <td>Эконом</td>\n",
       "      <td>4,66</td>\n",
       "      <td>Да</td>\n",
       "      <td>4321</td>\n",
       "      <td>4431</td>\n",
       "      <td>3445</td>\n",
       "      <td>Нет</td>\n",
       "      <td>Иван</td>\n",
       "      <td>Нет</td>\n",
       "      <td>12197</td>\n",
       "    </tr>\n",
       "    <tr>\n",
       "      <th>4</th>\n",
       "      <td>4505</td>\n",
       "      <td>2022</td>\n",
       "      <td>Москва</td>\n",
       "      <td>Эконом</td>\n",
       "      <td>4,67</td>\n",
       "      <td>Да</td>\n",
       "      <td>4289</td>\n",
       "      <td>4621</td>\n",
       "      <td>4839</td>\n",
       "      <td>Нет</td>\n",
       "      <td>Александр</td>\n",
       "      <td>Нет</td>\n",
       "      <td>13749</td>\n",
       "    </tr>\n",
       "    <tr>\n",
       "      <th>...</th>\n",
       "      <td>...</td>\n",
       "      <td>...</td>\n",
       "      <td>...</td>\n",
       "      <td>...</td>\n",
       "      <td>...</td>\n",
       "      <td>...</td>\n",
       "      <td>...</td>\n",
       "      <td>...</td>\n",
       "      <td>...</td>\n",
       "      <td>...</td>\n",
       "      <td>...</td>\n",
       "      <td>...</td>\n",
       "      <td>...</td>\n",
       "    </tr>\n",
       "    <tr>\n",
       "      <th>194</th>\n",
       "      <td>4695</td>\n",
       "      <td>2018</td>\n",
       "      <td>Москва</td>\n",
       "      <td>Эконом</td>\n",
       "      <td>4,87</td>\n",
       "      <td>Нет</td>\n",
       "      <td>2863</td>\n",
       "      <td>2534</td>\n",
       "      <td>3944</td>\n",
       "      <td>Да</td>\n",
       "      <td>Александр</td>\n",
       "      <td>Нет</td>\n",
       "      <td>9341</td>\n",
       "    </tr>\n",
       "    <tr>\n",
       "      <th>195</th>\n",
       "      <td>4696</td>\n",
       "      <td>2016</td>\n",
       "      <td>Москва</td>\n",
       "      <td>Эконом</td>\n",
       "      <td>4,78</td>\n",
       "      <td>Нет</td>\n",
       "      <td>2868</td>\n",
       "      <td>4874</td>\n",
       "      <td>3615</td>\n",
       "      <td>Да</td>\n",
       "      <td>Вера</td>\n",
       "      <td>Нет</td>\n",
       "      <td>11357</td>\n",
       "    </tr>\n",
       "    <tr>\n",
       "      <th>196</th>\n",
       "      <td>4697</td>\n",
       "      <td>2017</td>\n",
       "      <td>Санкт-Петербург</td>\n",
       "      <td>Бизнес</td>\n",
       "      <td>5,00</td>\n",
       "      <td>Нет</td>\n",
       "      <td>2849</td>\n",
       "      <td>3630</td>\n",
       "      <td>3713</td>\n",
       "      <td>Да</td>\n",
       "      <td>Вадим</td>\n",
       "      <td>Нет</td>\n",
       "      <td>10192</td>\n",
       "    </tr>\n",
       "    <tr>\n",
       "      <th>197</th>\n",
       "      <td>4698</td>\n",
       "      <td>2019</td>\n",
       "      <td>Москва</td>\n",
       "      <td>Эконом</td>\n",
       "      <td>4,85</td>\n",
       "      <td>Нет</td>\n",
       "      <td>2873</td>\n",
       "      <td>2713</td>\n",
       "      <td>4766</td>\n",
       "      <td>Да</td>\n",
       "      <td>Рахман</td>\n",
       "      <td>Нет</td>\n",
       "      <td>10352</td>\n",
       "    </tr>\n",
       "    <tr>\n",
       "      <th>198</th>\n",
       "      <td>4699</td>\n",
       "      <td>2022</td>\n",
       "      <td>Санкт-Петербург</td>\n",
       "      <td>Комфорт +</td>\n",
       "      <td>4,88</td>\n",
       "      <td>Нет</td>\n",
       "      <td>2867</td>\n",
       "      <td>5267</td>\n",
       "      <td>2517</td>\n",
       "      <td>Да</td>\n",
       "      <td>Павел</td>\n",
       "      <td>Нет</td>\n",
       "      <td>10651</td>\n",
       "    </tr>\n",
       "  </tbody>\n",
       "</table>\n",
       "<p>199 rows × 13 columns</p>\n",
       "</div>"
      ],
      "text/plain": [
       "       id  date             city     tariff rating complains  nov_trips  \\\n",
       "0    4501  2019           Москва     Эконом   4,63        Да       5257   \n",
       "1    4502  2021           Москва     Эконом   4,64        Да       4691   \n",
       "2    4503  2016           Москва     Эконом   4,65        Да       4497   \n",
       "3    4504  2019           Москва     Эконом   4,66        Да       4321   \n",
       "4    4505  2022           Москва     Эконом   4,67        Да       4289   \n",
       "..    ...   ...              ...        ...    ...       ...        ...   \n",
       "194  4695  2018           Москва     Эконом   4,87       Нет       2863   \n",
       "195  4696  2016           Москва     Эконом   4,78       Нет       2868   \n",
       "196  4697  2017  Санкт-Петербург     Бизнес   5,00       Нет       2849   \n",
       "197  4698  2019           Москва     Эконом   4,85       Нет       2873   \n",
       "198  4699  2022  Санкт-Петербург  Комфорт +   4,88       Нет       2867   \n",
       "\n",
       "     oct_trips  sep_trips tips        name top_driver  Trips_Number_Q4  \n",
       "0         2974       4061  Нет     Евгений        Нет            12292  \n",
       "1         5076       3899  Нет  Константин        Нет            13666  \n",
       "2         4595       2870  Нет      Шамиль        Нет            11962  \n",
       "3         4431       3445  Нет        Иван        Нет            12197  \n",
       "4         4621       4839  Нет   Александр        Нет            13749  \n",
       "..         ...        ...  ...         ...        ...              ...  \n",
       "194       2534       3944   Да   Александр        Нет             9341  \n",
       "195       4874       3615   Да        Вера        Нет            11357  \n",
       "196       3630       3713   Да       Вадим        Нет            10192  \n",
       "197       2713       4766   Да      Рахман        Нет            10352  \n",
       "198       5267       2517   Да       Павел        Нет            10651  \n",
       "\n",
       "[199 rows x 13 columns]"
      ]
     },
     "execution_count": 100,
     "metadata": {},
     "output_type": "execute_result"
    }
   ],
   "source": [
    "drivers.drop('tips_sum_nov', axis=1)"
   ]
  },
  {
   "cell_type": "code",
   "execution_count": 104,
   "id": "62f61748",
   "metadata": {},
   "outputs": [],
   "source": [
    "drivers = drivers.drop('tips_sum_nov', axis=1)"
   ]
  },
  {
   "cell_type": "code",
   "execution_count": 105,
   "id": "9e15ae2b",
   "metadata": {},
   "outputs": [
    {
     "data": {
      "text/html": [
       "<div>\n",
       "<style scoped>\n",
       "    .dataframe tbody tr th:only-of-type {\n",
       "        vertical-align: middle;\n",
       "    }\n",
       "\n",
       "    .dataframe tbody tr th {\n",
       "        vertical-align: top;\n",
       "    }\n",
       "\n",
       "    .dataframe thead th {\n",
       "        text-align: right;\n",
       "    }\n",
       "</style>\n",
       "<table border=\"1\" class=\"dataframe\">\n",
       "  <thead>\n",
       "    <tr style=\"text-align: right;\">\n",
       "      <th></th>\n",
       "      <th>id</th>\n",
       "      <th>date</th>\n",
       "      <th>city</th>\n",
       "      <th>tariff</th>\n",
       "      <th>rating</th>\n",
       "      <th>complains</th>\n",
       "      <th>nov_trips</th>\n",
       "      <th>oct_trips</th>\n",
       "      <th>sep_trips</th>\n",
       "      <th>tips</th>\n",
       "      <th>name</th>\n",
       "      <th>top_driver</th>\n",
       "      <th>Trips_Number_Q4</th>\n",
       "    </tr>\n",
       "  </thead>\n",
       "  <tbody>\n",
       "    <tr>\n",
       "      <th>0</th>\n",
       "      <td>4501</td>\n",
       "      <td>2019</td>\n",
       "      <td>Москва</td>\n",
       "      <td>Эконом</td>\n",
       "      <td>4,63</td>\n",
       "      <td>Да</td>\n",
       "      <td>5257</td>\n",
       "      <td>2974</td>\n",
       "      <td>4061</td>\n",
       "      <td>Нет</td>\n",
       "      <td>Евгений</td>\n",
       "      <td>Нет</td>\n",
       "      <td>12292</td>\n",
       "    </tr>\n",
       "    <tr>\n",
       "      <th>1</th>\n",
       "      <td>4502</td>\n",
       "      <td>2021</td>\n",
       "      <td>Москва</td>\n",
       "      <td>Эконом</td>\n",
       "      <td>4,64</td>\n",
       "      <td>Да</td>\n",
       "      <td>4691</td>\n",
       "      <td>5076</td>\n",
       "      <td>3899</td>\n",
       "      <td>Нет</td>\n",
       "      <td>Константин</td>\n",
       "      <td>Нет</td>\n",
       "      <td>13666</td>\n",
       "    </tr>\n",
       "    <tr>\n",
       "      <th>2</th>\n",
       "      <td>4503</td>\n",
       "      <td>2016</td>\n",
       "      <td>Москва</td>\n",
       "      <td>Эконом</td>\n",
       "      <td>4,65</td>\n",
       "      <td>Да</td>\n",
       "      <td>4497</td>\n",
       "      <td>4595</td>\n",
       "      <td>2870</td>\n",
       "      <td>Нет</td>\n",
       "      <td>Шамиль</td>\n",
       "      <td>Нет</td>\n",
       "      <td>11962</td>\n",
       "    </tr>\n",
       "    <tr>\n",
       "      <th>3</th>\n",
       "      <td>4504</td>\n",
       "      <td>2019</td>\n",
       "      <td>Москва</td>\n",
       "      <td>Эконом</td>\n",
       "      <td>4,66</td>\n",
       "      <td>Да</td>\n",
       "      <td>4321</td>\n",
       "      <td>4431</td>\n",
       "      <td>3445</td>\n",
       "      <td>Нет</td>\n",
       "      <td>Иван</td>\n",
       "      <td>Нет</td>\n",
       "      <td>12197</td>\n",
       "    </tr>\n",
       "    <tr>\n",
       "      <th>4</th>\n",
       "      <td>4505</td>\n",
       "      <td>2022</td>\n",
       "      <td>Москва</td>\n",
       "      <td>Эконом</td>\n",
       "      <td>4,67</td>\n",
       "      <td>Да</td>\n",
       "      <td>4289</td>\n",
       "      <td>4621</td>\n",
       "      <td>4839</td>\n",
       "      <td>Нет</td>\n",
       "      <td>Александр</td>\n",
       "      <td>Нет</td>\n",
       "      <td>13749</td>\n",
       "    </tr>\n",
       "  </tbody>\n",
       "</table>\n",
       "</div>"
      ],
      "text/plain": [
       "     id  date    city  tariff rating complains  nov_trips  oct_trips  \\\n",
       "0  4501  2019  Москва  Эконом   4,63        Да       5257       2974   \n",
       "1  4502  2021  Москва  Эконом   4,64        Да       4691       5076   \n",
       "2  4503  2016  Москва  Эконом   4,65        Да       4497       4595   \n",
       "3  4504  2019  Москва  Эконом   4,66        Да       4321       4431   \n",
       "4  4505  2022  Москва  Эконом   4,67        Да       4289       4621   \n",
       "\n",
       "   sep_trips tips        name top_driver  Trips_Number_Q4  \n",
       "0       4061  Нет     Евгений        Нет            12292  \n",
       "1       3899  Нет  Константин        Нет            13666  \n",
       "2       2870  Нет      Шамиль        Нет            11962  \n",
       "3       3445  Нет        Иван        Нет            12197  \n",
       "4       4839  Нет   Александр        Нет            13749  "
      ]
     },
     "execution_count": 105,
     "metadata": {},
     "output_type": "execute_result"
    }
   ],
   "source": [
    "drivers.head()"
   ]
  },
  {
   "cell_type": "code",
   "execution_count": 108,
   "id": "e3642dfb",
   "metadata": {},
   "outputs": [],
   "source": [
    "#Заменим название столбца (Ист: https://www.codecamp.ru/blog/pandas-rename-columns/)"
   ]
  },
  {
   "cell_type": "code",
   "execution_count": 109,
   "id": "6cdbb41d",
   "metadata": {},
   "outputs": [
    {
     "data": {
      "text/html": [
       "<div>\n",
       "<style scoped>\n",
       "    .dataframe tbody tr th:only-of-type {\n",
       "        vertical-align: middle;\n",
       "    }\n",
       "\n",
       "    .dataframe tbody tr th {\n",
       "        vertical-align: top;\n",
       "    }\n",
       "\n",
       "    .dataframe thead th {\n",
       "        text-align: right;\n",
       "    }\n",
       "</style>\n",
       "<table border=\"1\" class=\"dataframe\">\n",
       "  <thead>\n",
       "    <tr style=\"text-align: right;\">\n",
       "      <th></th>\n",
       "      <th>id</th>\n",
       "      <th>year</th>\n",
       "      <th>city</th>\n",
       "      <th>tariff</th>\n",
       "      <th>rating</th>\n",
       "      <th>complains</th>\n",
       "      <th>nov_trips</th>\n",
       "      <th>oct_trips</th>\n",
       "      <th>sep_trips</th>\n",
       "      <th>tips</th>\n",
       "      <th>tips_sum_nov</th>\n",
       "      <th>name</th>\n",
       "      <th>top_driver</th>\n",
       "    </tr>\n",
       "  </thead>\n",
       "  <tbody>\n",
       "    <tr>\n",
       "      <th>0</th>\n",
       "      <td>4501</td>\n",
       "      <td>2019</td>\n",
       "      <td>Москва</td>\n",
       "      <td>Эконом</td>\n",
       "      <td>4,63</td>\n",
       "      <td>Да</td>\n",
       "      <td>5257</td>\n",
       "      <td>2974</td>\n",
       "      <td>4061</td>\n",
       "      <td>Нет</td>\n",
       "      <td>р.0,00</td>\n",
       "      <td>Евгений</td>\n",
       "      <td>Нет</td>\n",
       "    </tr>\n",
       "    <tr>\n",
       "      <th>1</th>\n",
       "      <td>4502</td>\n",
       "      <td>2021</td>\n",
       "      <td>Москва</td>\n",
       "      <td>Эконом</td>\n",
       "      <td>4,64</td>\n",
       "      <td>Да</td>\n",
       "      <td>4691</td>\n",
       "      <td>5076</td>\n",
       "      <td>3899</td>\n",
       "      <td>Нет</td>\n",
       "      <td>р.0,00</td>\n",
       "      <td>Константин</td>\n",
       "      <td>Нет</td>\n",
       "    </tr>\n",
       "    <tr>\n",
       "      <th>2</th>\n",
       "      <td>4503</td>\n",
       "      <td>2016</td>\n",
       "      <td>Москва</td>\n",
       "      <td>Эконом</td>\n",
       "      <td>4,65</td>\n",
       "      <td>Да</td>\n",
       "      <td>4497</td>\n",
       "      <td>4595</td>\n",
       "      <td>2870</td>\n",
       "      <td>Нет</td>\n",
       "      <td>р.0,00</td>\n",
       "      <td>Шамиль</td>\n",
       "      <td>Нет</td>\n",
       "    </tr>\n",
       "    <tr>\n",
       "      <th>3</th>\n",
       "      <td>4504</td>\n",
       "      <td>2019</td>\n",
       "      <td>Москва</td>\n",
       "      <td>Эконом</td>\n",
       "      <td>4,66</td>\n",
       "      <td>Да</td>\n",
       "      <td>4321</td>\n",
       "      <td>4431</td>\n",
       "      <td>3445</td>\n",
       "      <td>Нет</td>\n",
       "      <td>р.0,00</td>\n",
       "      <td>Иван</td>\n",
       "      <td>Нет</td>\n",
       "    </tr>\n",
       "    <tr>\n",
       "      <th>4</th>\n",
       "      <td>4505</td>\n",
       "      <td>2022</td>\n",
       "      <td>Москва</td>\n",
       "      <td>Эконом</td>\n",
       "      <td>4,67</td>\n",
       "      <td>Да</td>\n",
       "      <td>4289</td>\n",
       "      <td>4621</td>\n",
       "      <td>4839</td>\n",
       "      <td>Нет</td>\n",
       "      <td>р.0,00</td>\n",
       "      <td>Александр</td>\n",
       "      <td>Нет</td>\n",
       "    </tr>\n",
       "    <tr>\n",
       "      <th>...</th>\n",
       "      <td>...</td>\n",
       "      <td>...</td>\n",
       "      <td>...</td>\n",
       "      <td>...</td>\n",
       "      <td>...</td>\n",
       "      <td>...</td>\n",
       "      <td>...</td>\n",
       "      <td>...</td>\n",
       "      <td>...</td>\n",
       "      <td>...</td>\n",
       "      <td>...</td>\n",
       "      <td>...</td>\n",
       "      <td>...</td>\n",
       "    </tr>\n",
       "    <tr>\n",
       "      <th>194</th>\n",
       "      <td>4695</td>\n",
       "      <td>2018</td>\n",
       "      <td>Москва</td>\n",
       "      <td>Эконом</td>\n",
       "      <td>4,87</td>\n",
       "      <td>Нет</td>\n",
       "      <td>2863</td>\n",
       "      <td>2534</td>\n",
       "      <td>3944</td>\n",
       "      <td>Да</td>\n",
       "      <td>р.4 090,00</td>\n",
       "      <td>Александр</td>\n",
       "      <td>Нет</td>\n",
       "    </tr>\n",
       "    <tr>\n",
       "      <th>195</th>\n",
       "      <td>4696</td>\n",
       "      <td>2016</td>\n",
       "      <td>Москва</td>\n",
       "      <td>Эконом</td>\n",
       "      <td>4,78</td>\n",
       "      <td>Нет</td>\n",
       "      <td>2868</td>\n",
       "      <td>4874</td>\n",
       "      <td>3615</td>\n",
       "      <td>Да</td>\n",
       "      <td>р.3 500,00</td>\n",
       "      <td>Вера</td>\n",
       "      <td>Нет</td>\n",
       "    </tr>\n",
       "    <tr>\n",
       "      <th>196</th>\n",
       "      <td>4697</td>\n",
       "      <td>2017</td>\n",
       "      <td>Санкт-Петербург</td>\n",
       "      <td>Бизнес</td>\n",
       "      <td>5,00</td>\n",
       "      <td>Нет</td>\n",
       "      <td>2849</td>\n",
       "      <td>3630</td>\n",
       "      <td>3713</td>\n",
       "      <td>Да</td>\n",
       "      <td>р.31 000,00</td>\n",
       "      <td>Вадим</td>\n",
       "      <td>Нет</td>\n",
       "    </tr>\n",
       "    <tr>\n",
       "      <th>197</th>\n",
       "      <td>4698</td>\n",
       "      <td>2019</td>\n",
       "      <td>Москва</td>\n",
       "      <td>Эконом</td>\n",
       "      <td>4,85</td>\n",
       "      <td>Нет</td>\n",
       "      <td>2873</td>\n",
       "      <td>2713</td>\n",
       "      <td>4766</td>\n",
       "      <td>Да</td>\n",
       "      <td>р.550,00</td>\n",
       "      <td>Рахман</td>\n",
       "      <td>Нет</td>\n",
       "    </tr>\n",
       "    <tr>\n",
       "      <th>198</th>\n",
       "      <td>4699</td>\n",
       "      <td>2022</td>\n",
       "      <td>Санкт-Петербург</td>\n",
       "      <td>Комфорт +</td>\n",
       "      <td>4,88</td>\n",
       "      <td>Нет</td>\n",
       "      <td>2867</td>\n",
       "      <td>5267</td>\n",
       "      <td>2517</td>\n",
       "      <td>Да</td>\n",
       "      <td>р.1 200,00</td>\n",
       "      <td>Павел</td>\n",
       "      <td>Нет</td>\n",
       "    </tr>\n",
       "  </tbody>\n",
       "</table>\n",
       "<p>199 rows × 13 columns</p>\n",
       "</div>"
      ],
      "text/plain": [
       "       id  year             city     tariff rating complains  nov_trips  \\\n",
       "0    4501  2019           Москва     Эконом   4,63        Да       5257   \n",
       "1    4502  2021           Москва     Эконом   4,64        Да       4691   \n",
       "2    4503  2016           Москва     Эконом   4,65        Да       4497   \n",
       "3    4504  2019           Москва     Эконом   4,66        Да       4321   \n",
       "4    4505  2022           Москва     Эконом   4,67        Да       4289   \n",
       "..    ...   ...              ...        ...    ...       ...        ...   \n",
       "194  4695  2018           Москва     Эконом   4,87       Нет       2863   \n",
       "195  4696  2016           Москва     Эконом   4,78       Нет       2868   \n",
       "196  4697  2017  Санкт-Петербург     Бизнес   5,00       Нет       2849   \n",
       "197  4698  2019           Москва     Эконом   4,85       Нет       2873   \n",
       "198  4699  2022  Санкт-Петербург  Комфорт +   4,88       Нет       2867   \n",
       "\n",
       "     oct_trips  sep_trips tips tips_sum_nov        name top_driver  \n",
       "0         2974       4061  Нет       р.0,00     Евгений        Нет  \n",
       "1         5076       3899  Нет       р.0,00  Константин        Нет  \n",
       "2         4595       2870  Нет       р.0,00      Шамиль        Нет  \n",
       "3         4431       3445  Нет       р.0,00        Иван        Нет  \n",
       "4         4621       4839  Нет       р.0,00   Александр        Нет  \n",
       "..         ...        ...  ...          ...         ...        ...  \n",
       "194       2534       3944   Да   р.4 090,00   Александр        Нет  \n",
       "195       4874       3615   Да   р.3 500,00        Вера        Нет  \n",
       "196       3630       3713   Да  р.31 000,00       Вадим        Нет  \n",
       "197       2713       4766   Да     р.550,00      Рахман        Нет  \n",
       "198       5267       2517   Да   р.1 200,00       Павел        Нет  \n",
       "\n",
       "[199 rows x 13 columns]"
      ]
     },
     "execution_count": 109,
     "metadata": {},
     "output_type": "execute_result"
    }
   ],
   "source": [
    "import pandas as pd\n",
    "drivers = pd.read_csv('Downloads/DRIVERMARKETING_04 - Лист1-7.csv')\n",
    "drivers.rename(columns={'date':'year'})"
   ]
  },
  {
   "cell_type": "code",
   "execution_count": null,
   "id": "dbad8d02",
   "metadata": {},
   "outputs": [],
   "source": [
    "#"
   ]
  },
  {
   "cell_type": "code",
   "execution_count": 139,
   "id": "9965e387",
   "metadata": {},
   "outputs": [],
   "source": [
    "import numpy as np\n",
    "drivers['tips'] = np.where(drivers['tips'] == 'Да', 1, 0)"
   ]
  },
  {
   "cell_type": "code",
   "execution_count": 143,
   "id": "edee84a7",
   "metadata": {},
   "outputs": [],
   "source": [
    "drivers['tips'] = drivers['tips'] == \"Да\""
   ]
  },
  {
   "cell_type": "code",
   "execution_count": 144,
   "id": "8adb569c",
   "metadata": {},
   "outputs": [
    {
     "data": {
      "text/html": [
       "<div>\n",
       "<style scoped>\n",
       "    .dataframe tbody tr th:only-of-type {\n",
       "        vertical-align: middle;\n",
       "    }\n",
       "\n",
       "    .dataframe tbody tr th {\n",
       "        vertical-align: top;\n",
       "    }\n",
       "\n",
       "    .dataframe thead th {\n",
       "        text-align: right;\n",
       "    }\n",
       "</style>\n",
       "<table border=\"1\" class=\"dataframe\">\n",
       "  <thead>\n",
       "    <tr style=\"text-align: right;\">\n",
       "      <th></th>\n",
       "      <th>id</th>\n",
       "      <th>date</th>\n",
       "      <th>city</th>\n",
       "      <th>tariff</th>\n",
       "      <th>rating</th>\n",
       "      <th>complains</th>\n",
       "      <th>nov_trips</th>\n",
       "      <th>oct_trips</th>\n",
       "      <th>sep_trips</th>\n",
       "      <th>tips</th>\n",
       "      <th>tips_sum_nov</th>\n",
       "      <th>name</th>\n",
       "      <th>top_driver</th>\n",
       "    </tr>\n",
       "  </thead>\n",
       "  <tbody>\n",
       "    <tr>\n",
       "      <th>0</th>\n",
       "      <td>4501</td>\n",
       "      <td>2019</td>\n",
       "      <td>Москва</td>\n",
       "      <td>Эконом</td>\n",
       "      <td>4,63</td>\n",
       "      <td>False</td>\n",
       "      <td>5257</td>\n",
       "      <td>2974</td>\n",
       "      <td>4061</td>\n",
       "      <td>False</td>\n",
       "      <td>р.0,00</td>\n",
       "      <td>Евгений</td>\n",
       "      <td>Нет</td>\n",
       "    </tr>\n",
       "    <tr>\n",
       "      <th>1</th>\n",
       "      <td>4502</td>\n",
       "      <td>2021</td>\n",
       "      <td>Москва</td>\n",
       "      <td>Эконом</td>\n",
       "      <td>4,64</td>\n",
       "      <td>False</td>\n",
       "      <td>4691</td>\n",
       "      <td>5076</td>\n",
       "      <td>3899</td>\n",
       "      <td>False</td>\n",
       "      <td>р.0,00</td>\n",
       "      <td>Константин</td>\n",
       "      <td>Нет</td>\n",
       "    </tr>\n",
       "    <tr>\n",
       "      <th>2</th>\n",
       "      <td>4503</td>\n",
       "      <td>2016</td>\n",
       "      <td>Москва</td>\n",
       "      <td>Эконом</td>\n",
       "      <td>4,65</td>\n",
       "      <td>False</td>\n",
       "      <td>4497</td>\n",
       "      <td>4595</td>\n",
       "      <td>2870</td>\n",
       "      <td>False</td>\n",
       "      <td>р.0,00</td>\n",
       "      <td>Шамиль</td>\n",
       "      <td>Нет</td>\n",
       "    </tr>\n",
       "    <tr>\n",
       "      <th>3</th>\n",
       "      <td>4504</td>\n",
       "      <td>2019</td>\n",
       "      <td>Москва</td>\n",
       "      <td>Эконом</td>\n",
       "      <td>4,66</td>\n",
       "      <td>False</td>\n",
       "      <td>4321</td>\n",
       "      <td>4431</td>\n",
       "      <td>3445</td>\n",
       "      <td>False</td>\n",
       "      <td>р.0,00</td>\n",
       "      <td>Иван</td>\n",
       "      <td>Нет</td>\n",
       "    </tr>\n",
       "    <tr>\n",
       "      <th>4</th>\n",
       "      <td>4505</td>\n",
       "      <td>2022</td>\n",
       "      <td>Москва</td>\n",
       "      <td>Эконом</td>\n",
       "      <td>4,67</td>\n",
       "      <td>False</td>\n",
       "      <td>4289</td>\n",
       "      <td>4621</td>\n",
       "      <td>4839</td>\n",
       "      <td>False</td>\n",
       "      <td>р.0,00</td>\n",
       "      <td>Александр</td>\n",
       "      <td>Нет</td>\n",
       "    </tr>\n",
       "  </tbody>\n",
       "</table>\n",
       "</div>"
      ],
      "text/plain": [
       "     id  date    city  tariff rating  complains  nov_trips  oct_trips  \\\n",
       "0  4501  2019  Москва  Эконом   4,63      False       5257       2974   \n",
       "1  4502  2021  Москва  Эконом   4,64      False       4691       5076   \n",
       "2  4503  2016  Москва  Эконом   4,65      False       4497       4595   \n",
       "3  4504  2019  Москва  Эконом   4,66      False       4321       4431   \n",
       "4  4505  2022  Москва  Эконом   4,67      False       4289       4621   \n",
       "\n",
       "   sep_trips   tips tips_sum_nov        name top_driver  \n",
       "0       4061  False       р.0,00     Евгений        Нет  \n",
       "1       3899  False       р.0,00  Константин        Нет  \n",
       "2       2870  False       р.0,00      Шамиль        Нет  \n",
       "3       3445  False       р.0,00        Иван        Нет  \n",
       "4       4839  False       р.0,00   Александр        Нет  "
      ]
     },
     "execution_count": 144,
     "metadata": {},
     "output_type": "execute_result"
    }
   ],
   "source": [
    "drivers.head()"
   ]
  },
  {
   "cell_type": "code",
   "execution_count": null,
   "id": "9362957c",
   "metadata": {},
   "outputs": [],
   "source": [
    "#"
   ]
  },
  {
   "cell_type": "code",
   "execution_count": 157,
   "id": "d0627287",
   "metadata": {},
   "outputs": [],
   "source": [
    "def get_tariff_cat(tariff):\n",
    "    if tariff == 'Эконом':\n",
    "        return 'Массовые'\n",
    "    elif tariff == 'Комфорт':\n",
    "        return 'Массовые'\n",
    "    elif tariff == 'Бизнес':\n",
    "        return 'Ultima'\n",
    "    elif tariff == 'Premier':\n",
    "        return 'Ultima'\n",
    "    else:\n",
    "        return tariff"
   ]
  },
  {
   "cell_type": "code",
   "execution_count": 158,
   "id": "48581cc8",
   "metadata": {},
   "outputs": [],
   "source": [
    "drivers['tariff_cat'] = drivers['tariff'].apply(get_tariff_cat)"
   ]
  },
  {
   "cell_type": "code",
   "execution_count": 159,
   "id": "79884c2f",
   "metadata": {},
   "outputs": [
    {
     "data": {
      "text/html": [
       "<div>\n",
       "<style scoped>\n",
       "    .dataframe tbody tr th:only-of-type {\n",
       "        vertical-align: middle;\n",
       "    }\n",
       "\n",
       "    .dataframe tbody tr th {\n",
       "        vertical-align: top;\n",
       "    }\n",
       "\n",
       "    .dataframe thead th {\n",
       "        text-align: right;\n",
       "    }\n",
       "</style>\n",
       "<table border=\"1\" class=\"dataframe\">\n",
       "  <thead>\n",
       "    <tr style=\"text-align: right;\">\n",
       "      <th></th>\n",
       "      <th>id</th>\n",
       "      <th>date</th>\n",
       "      <th>city</th>\n",
       "      <th>tariff</th>\n",
       "      <th>rating</th>\n",
       "      <th>complains</th>\n",
       "      <th>nov_trips</th>\n",
       "      <th>oct_trips</th>\n",
       "      <th>sep_trips</th>\n",
       "      <th>tips</th>\n",
       "      <th>tips_sum_nov</th>\n",
       "      <th>name</th>\n",
       "      <th>top_driver</th>\n",
       "      <th>tariff_cat</th>\n",
       "    </tr>\n",
       "  </thead>\n",
       "  <tbody>\n",
       "    <tr>\n",
       "      <th>0</th>\n",
       "      <td>4501</td>\n",
       "      <td>2019</td>\n",
       "      <td>Москва</td>\n",
       "      <td>Эконом</td>\n",
       "      <td>4,63</td>\n",
       "      <td>False</td>\n",
       "      <td>5257</td>\n",
       "      <td>2974</td>\n",
       "      <td>4061</td>\n",
       "      <td>False</td>\n",
       "      <td>р.0,00</td>\n",
       "      <td>Евгений</td>\n",
       "      <td>Нет</td>\n",
       "      <td>Массовые</td>\n",
       "    </tr>\n",
       "    <tr>\n",
       "      <th>1</th>\n",
       "      <td>4502</td>\n",
       "      <td>2021</td>\n",
       "      <td>Москва</td>\n",
       "      <td>Эконом</td>\n",
       "      <td>4,64</td>\n",
       "      <td>False</td>\n",
       "      <td>4691</td>\n",
       "      <td>5076</td>\n",
       "      <td>3899</td>\n",
       "      <td>False</td>\n",
       "      <td>р.0,00</td>\n",
       "      <td>Константин</td>\n",
       "      <td>Нет</td>\n",
       "      <td>Массовые</td>\n",
       "    </tr>\n",
       "    <tr>\n",
       "      <th>2</th>\n",
       "      <td>4503</td>\n",
       "      <td>2016</td>\n",
       "      <td>Москва</td>\n",
       "      <td>Эконом</td>\n",
       "      <td>4,65</td>\n",
       "      <td>False</td>\n",
       "      <td>4497</td>\n",
       "      <td>4595</td>\n",
       "      <td>2870</td>\n",
       "      <td>False</td>\n",
       "      <td>р.0,00</td>\n",
       "      <td>Шамиль</td>\n",
       "      <td>Нет</td>\n",
       "      <td>Массовые</td>\n",
       "    </tr>\n",
       "    <tr>\n",
       "      <th>3</th>\n",
       "      <td>4504</td>\n",
       "      <td>2019</td>\n",
       "      <td>Москва</td>\n",
       "      <td>Эконом</td>\n",
       "      <td>4,66</td>\n",
       "      <td>False</td>\n",
       "      <td>4321</td>\n",
       "      <td>4431</td>\n",
       "      <td>3445</td>\n",
       "      <td>False</td>\n",
       "      <td>р.0,00</td>\n",
       "      <td>Иван</td>\n",
       "      <td>Нет</td>\n",
       "      <td>Массовые</td>\n",
       "    </tr>\n",
       "    <tr>\n",
       "      <th>4</th>\n",
       "      <td>4505</td>\n",
       "      <td>2022</td>\n",
       "      <td>Москва</td>\n",
       "      <td>Эконом</td>\n",
       "      <td>4,67</td>\n",
       "      <td>False</td>\n",
       "      <td>4289</td>\n",
       "      <td>4621</td>\n",
       "      <td>4839</td>\n",
       "      <td>False</td>\n",
       "      <td>р.0,00</td>\n",
       "      <td>Александр</td>\n",
       "      <td>Нет</td>\n",
       "      <td>Массовые</td>\n",
       "    </tr>\n",
       "  </tbody>\n",
       "</table>\n",
       "</div>"
      ],
      "text/plain": [
       "     id  date    city  tariff rating  complains  nov_trips  oct_trips  \\\n",
       "0  4501  2019  Москва  Эконом   4,63      False       5257       2974   \n",
       "1  4502  2021  Москва  Эконом   4,64      False       4691       5076   \n",
       "2  4503  2016  Москва  Эконом   4,65      False       4497       4595   \n",
       "3  4504  2019  Москва  Эконом   4,66      False       4321       4431   \n",
       "4  4505  2022  Москва  Эконом   4,67      False       4289       4621   \n",
       "\n",
       "   sep_trips   tips tips_sum_nov        name top_driver tariff_cat  \n",
       "0       4061  False       р.0,00     Евгений        Нет   Массовые  \n",
       "1       3899  False       р.0,00  Константин        Нет   Массовые  \n",
       "2       2870  False       р.0,00      Шамиль        Нет   Массовые  \n",
       "3       3445  False       р.0,00        Иван        Нет   Массовые  \n",
       "4       4839  False       р.0,00   Александр        Нет   Массовые  "
      ]
     },
     "execution_count": 159,
     "metadata": {},
     "output_type": "execute_result"
    }
   ],
   "source": [
    "drivers.head()"
   ]
  },
  {
   "cell_type": "code",
   "execution_count": 160,
   "id": "a5e8fe3c",
   "metadata": {},
   "outputs": [],
   "source": [
    "drivers['tariff_cat'] = pd.Categorical(drivers['tariff_cat'])"
   ]
  },
  {
   "cell_type": "code",
   "execution_count": 161,
   "id": "1433e313",
   "metadata": {},
   "outputs": [
    {
     "name": "stdout",
     "output_type": "stream",
     "text": [
      "<class 'pandas.core.frame.DataFrame'>\n",
      "RangeIndex: 199 entries, 0 to 198\n",
      "Data columns (total 14 columns):\n",
      " #   Column        Non-Null Count  Dtype   \n",
      "---  ------        --------------  -----   \n",
      " 0   id            199 non-null    int64   \n",
      " 1   date          199 non-null    int64   \n",
      " 2   city          199 non-null    object  \n",
      " 3   tariff        199 non-null    object  \n",
      " 4   rating        199 non-null    object  \n",
      " 5   complains     199 non-null    bool    \n",
      " 6   nov_trips     199 non-null    int64   \n",
      " 7   oct_trips     199 non-null    int64   \n",
      " 8   sep_trips     199 non-null    int64   \n",
      " 9   tips          199 non-null    bool    \n",
      " 10  tips_sum_nov  199 non-null    object  \n",
      " 11  name          199 non-null    object  \n",
      " 12  top_driver    199 non-null    object  \n",
      " 13  tariff_cat    199 non-null    category\n",
      "dtypes: bool(2), category(1), int64(5), object(6)\n",
      "memory usage: 17.9+ KB\n"
     ]
    }
   ],
   "source": [
    "drivers.info()"
   ]
  },
  {
   "cell_type": "code",
   "execution_count": 162,
   "id": "247a86d9",
   "metadata": {},
   "outputs": [
    {
     "data": {
      "text/plain": [
       "0       Массовые\n",
       "1       Массовые\n",
       "2       Массовые\n",
       "3       Массовые\n",
       "4       Массовые\n",
       "         ...    \n",
       "194     Массовые\n",
       "195     Массовые\n",
       "196       Ultima\n",
       "197     Массовые\n",
       "198    Комфорт +\n",
       "Name: tariff_cat, Length: 199, dtype: category\n",
       "Categories (3, object): ['Ultima', 'Комфорт +', 'Массовые']"
      ]
     },
     "execution_count": 162,
     "metadata": {},
     "output_type": "execute_result"
    }
   ],
   "source": [
    "drivers['tariff_cat']"
   ]
  },
  {
   "cell_type": "code",
   "execution_count": 163,
   "id": "84651dfc",
   "metadata": {},
   "outputs": [
    {
     "data": {
      "text/plain": [
       "0      2\n",
       "1      2\n",
       "2      2\n",
       "3      2\n",
       "4      2\n",
       "      ..\n",
       "194    2\n",
       "195    2\n",
       "196    0\n",
       "197    2\n",
       "198    1\n",
       "Length: 199, dtype: int8"
      ]
     },
     "execution_count": 163,
     "metadata": {},
     "output_type": "execute_result"
    }
   ],
   "source": [
    "drivers['tariff_cat'].cat.codes"
   ]
  },
  {
   "cell_type": "code",
   "execution_count": 164,
   "id": "183c1736",
   "metadata": {},
   "outputs": [
    {
     "data": {
      "text/plain": [
       "Index(['Ultima', 'Комфорт +', 'Массовые'], dtype='object')"
      ]
     },
     "execution_count": 164,
     "metadata": {},
     "output_type": "execute_result"
    }
   ],
   "source": [
    "drivers['tariff_cat'].cat.categories"
   ]
  },
  {
   "cell_type": "code",
   "execution_count": null,
   "id": "dab4a371",
   "metadata": {},
   "outputs": [],
   "source": [
    "# Обозначим критерии для определения лучших водителей"
   ]
  },
  {
   "cell_type": "code",
   "execution_count": 165,
   "id": "4e15c121",
   "metadata": {},
   "outputs": [],
   "source": [
    "import numpy as np"
   ]
  },
  {
   "cell_type": "code",
   "execution_count": 198,
   "id": "0ea6e605",
   "metadata": {},
   "outputs": [],
   "source": [
    "drivers['best_driver'] = np.where((drivers['tariff_cat'] == 'Ultima') &\n",
    "    (drivers['rating'] > '4.92') &\n",
    "    (drivers['nov_trips']> 2000), 1, 0)"
   ]
  },
  {
   "cell_type": "code",
   "execution_count": 199,
   "id": "248c0d94",
   "metadata": {},
   "outputs": [
    {
     "name": "stdout",
     "output_type": "stream",
     "text": [
      "<class 'pandas.core.frame.DataFrame'>\n",
      "RangeIndex: 199 entries, 0 to 198\n",
      "Data columns (total 15 columns):\n",
      " #   Column        Non-Null Count  Dtype   \n",
      "---  ------        --------------  -----   \n",
      " 0   id            199 non-null    int64   \n",
      " 1   date          199 non-null    int64   \n",
      " 2   city          199 non-null    object  \n",
      " 3   tariff        199 non-null    object  \n",
      " 4   rating        199 non-null    object  \n",
      " 5   complains     199 non-null    bool    \n",
      " 6   nov_trips     199 non-null    int64   \n",
      " 7   oct_trips     199 non-null    int64   \n",
      " 8   sep_trips     199 non-null    int64   \n",
      " 9   tips          199 non-null    bool    \n",
      " 10  tips_sum_nov  199 non-null    object  \n",
      " 11  name          199 non-null    object  \n",
      " 12  top_driver    199 non-null    object  \n",
      " 13  tariff_cat    199 non-null    category\n",
      " 14  best_driver   199 non-null    int64   \n",
      "dtypes: bool(2), category(1), int64(6), object(6)\n",
      "memory usage: 19.5+ KB\n"
     ]
    }
   ],
   "source": [
    "drivers.info()"
   ]
  },
  {
   "cell_type": "code",
   "execution_count": 200,
   "id": "abc57ba3",
   "metadata": {},
   "outputs": [
    {
     "data": {
      "text/html": [
       "<div>\n",
       "<style scoped>\n",
       "    .dataframe tbody tr th:only-of-type {\n",
       "        vertical-align: middle;\n",
       "    }\n",
       "\n",
       "    .dataframe tbody tr th {\n",
       "        vertical-align: top;\n",
       "    }\n",
       "\n",
       "    .dataframe thead th {\n",
       "        text-align: right;\n",
       "    }\n",
       "</style>\n",
       "<table border=\"1\" class=\"dataframe\">\n",
       "  <thead>\n",
       "    <tr style=\"text-align: right;\">\n",
       "      <th></th>\n",
       "      <th>id</th>\n",
       "      <th>date</th>\n",
       "      <th>city</th>\n",
       "      <th>tariff</th>\n",
       "      <th>rating</th>\n",
       "      <th>complains</th>\n",
       "      <th>nov_trips</th>\n",
       "      <th>oct_trips</th>\n",
       "      <th>sep_trips</th>\n",
       "      <th>tips</th>\n",
       "      <th>tips_sum_nov</th>\n",
       "      <th>name</th>\n",
       "      <th>top_driver</th>\n",
       "      <th>tariff_cat</th>\n",
       "      <th>best_driver</th>\n",
       "    </tr>\n",
       "  </thead>\n",
       "  <tbody>\n",
       "    <tr>\n",
       "      <th>0</th>\n",
       "      <td>4501</td>\n",
       "      <td>2019</td>\n",
       "      <td>Москва</td>\n",
       "      <td>Эконом</td>\n",
       "      <td>4,63</td>\n",
       "      <td>False</td>\n",
       "      <td>5257</td>\n",
       "      <td>2974</td>\n",
       "      <td>4061</td>\n",
       "      <td>False</td>\n",
       "      <td>р.0,00</td>\n",
       "      <td>Евгений</td>\n",
       "      <td>Нет</td>\n",
       "      <td>Массовые</td>\n",
       "      <td>0</td>\n",
       "    </tr>\n",
       "    <tr>\n",
       "      <th>1</th>\n",
       "      <td>4502</td>\n",
       "      <td>2021</td>\n",
       "      <td>Москва</td>\n",
       "      <td>Эконом</td>\n",
       "      <td>4,64</td>\n",
       "      <td>False</td>\n",
       "      <td>4691</td>\n",
       "      <td>5076</td>\n",
       "      <td>3899</td>\n",
       "      <td>False</td>\n",
       "      <td>р.0,00</td>\n",
       "      <td>Константин</td>\n",
       "      <td>Нет</td>\n",
       "      <td>Массовые</td>\n",
       "      <td>0</td>\n",
       "    </tr>\n",
       "    <tr>\n",
       "      <th>2</th>\n",
       "      <td>4503</td>\n",
       "      <td>2016</td>\n",
       "      <td>Москва</td>\n",
       "      <td>Эконом</td>\n",
       "      <td>4,65</td>\n",
       "      <td>False</td>\n",
       "      <td>4497</td>\n",
       "      <td>4595</td>\n",
       "      <td>2870</td>\n",
       "      <td>False</td>\n",
       "      <td>р.0,00</td>\n",
       "      <td>Шамиль</td>\n",
       "      <td>Нет</td>\n",
       "      <td>Массовые</td>\n",
       "      <td>0</td>\n",
       "    </tr>\n",
       "    <tr>\n",
       "      <th>3</th>\n",
       "      <td>4504</td>\n",
       "      <td>2019</td>\n",
       "      <td>Москва</td>\n",
       "      <td>Эконом</td>\n",
       "      <td>4,66</td>\n",
       "      <td>False</td>\n",
       "      <td>4321</td>\n",
       "      <td>4431</td>\n",
       "      <td>3445</td>\n",
       "      <td>False</td>\n",
       "      <td>р.0,00</td>\n",
       "      <td>Иван</td>\n",
       "      <td>Нет</td>\n",
       "      <td>Массовые</td>\n",
       "      <td>0</td>\n",
       "    </tr>\n",
       "    <tr>\n",
       "      <th>4</th>\n",
       "      <td>4505</td>\n",
       "      <td>2022</td>\n",
       "      <td>Москва</td>\n",
       "      <td>Эконом</td>\n",
       "      <td>4,67</td>\n",
       "      <td>False</td>\n",
       "      <td>4289</td>\n",
       "      <td>4621</td>\n",
       "      <td>4839</td>\n",
       "      <td>False</td>\n",
       "      <td>р.0,00</td>\n",
       "      <td>Александр</td>\n",
       "      <td>Нет</td>\n",
       "      <td>Массовые</td>\n",
       "      <td>0</td>\n",
       "    </tr>\n",
       "  </tbody>\n",
       "</table>\n",
       "</div>"
      ],
      "text/plain": [
       "     id  date    city  tariff rating  complains  nov_trips  oct_trips  \\\n",
       "0  4501  2019  Москва  Эконом   4,63      False       5257       2974   \n",
       "1  4502  2021  Москва  Эконом   4,64      False       4691       5076   \n",
       "2  4503  2016  Москва  Эконом   4,65      False       4497       4595   \n",
       "3  4504  2019  Москва  Эконом   4,66      False       4321       4431   \n",
       "4  4505  2022  Москва  Эконом   4,67      False       4289       4621   \n",
       "\n",
       "   sep_trips   tips tips_sum_nov        name top_driver tariff_cat  \\\n",
       "0       4061  False       р.0,00     Евгений        Нет   Массовые   \n",
       "1       3899  False       р.0,00  Константин        Нет   Массовые   \n",
       "2       2870  False       р.0,00      Шамиль        Нет   Массовые   \n",
       "3       3445  False       р.0,00        Иван        Нет   Массовые   \n",
       "4       4839  False       р.0,00   Александр        Нет   Массовые   \n",
       "\n",
       "   best_driver  \n",
       "0            0  \n",
       "1            0  \n",
       "2            0  \n",
       "3            0  \n",
       "4            0  "
      ]
     },
     "execution_count": 200,
     "metadata": {},
     "output_type": "execute_result"
    }
   ],
   "source": [
    "drivers.head()"
   ]
  },
  {
   "cell_type": "code",
   "execution_count": null,
   "id": "450f721c",
   "metadata": {},
   "outputs": [],
   "source": [
    "#Найдем число лучших водителей, соответствующих критериям"
   ]
  },
  {
   "cell_type": "code",
   "execution_count": 201,
   "id": "853b109f",
   "metadata": {},
   "outputs": [
    {
     "data": {
      "text/plain": [
       "3"
      ]
     },
     "execution_count": 201,
     "metadata": {},
     "output_type": "execute_result"
    }
   ],
   "source": [
    "drivers['best_driver'].sum()"
   ]
  },
  {
   "cell_type": "code",
   "execution_count": 203,
   "id": "74eb1185",
   "metadata": {},
   "outputs": [],
   "source": [
    "drivers.to_excel('Downloads/Drivers.xlsx', index = False)"
   ]
  },
  {
   "cell_type": "code",
   "execution_count": 204,
   "id": "e323f27f",
   "metadata": {},
   "outputs": [
    {
     "name": "stdout",
     "output_type": "stream",
     "text": [
      "<class 'pandas.core.frame.DataFrame'>\n",
      "RangeIndex: 199 entries, 0 to 198\n",
      "Data columns (total 15 columns):\n",
      " #   Column        Non-Null Count  Dtype \n",
      "---  ------        --------------  ----- \n",
      " 0   id            199 non-null    int64 \n",
      " 1   date          199 non-null    int64 \n",
      " 2   city          199 non-null    object\n",
      " 3   tariff        199 non-null    object\n",
      " 4   rating        199 non-null    object\n",
      " 5   complains     199 non-null    bool  \n",
      " 6   nov_trips     199 non-null    int64 \n",
      " 7   oct_trips     199 non-null    int64 \n",
      " 8   sep_trips     199 non-null    int64 \n",
      " 9   tips          199 non-null    bool  \n",
      " 10  tips_sum_nov  199 non-null    object\n",
      " 11  name          199 non-null    object\n",
      " 12  top_driver    199 non-null    object\n",
      " 13  tariff_cat    199 non-null    object\n",
      " 14  best_driver   199 non-null    int64 \n",
      "dtypes: bool(2), int64(6), object(7)\n",
      "memory usage: 20.7+ KB\n"
     ]
    }
   ],
   "source": [
    "df = pd.read_excel('Downloads/Drivers.xlsx')\n",
    "df.info()"
   ]
  },
  {
   "cell_type": "code",
   "execution_count": 206,
   "id": "1d5c7a1d",
   "metadata": {},
   "outputs": [
    {
     "data": {
      "text/plain": [
       "Массовые     128\n",
       "Комфорт +     42\n",
       "Ultima        29\n",
       "Name: tariff_cat, dtype: int64"
      ]
     },
     "execution_count": 206,
     "metadata": {},
     "output_type": "execute_result"
    }
   ],
   "source": [
    "drivers['tariff_cat'].value_counts()"
   ]
  },
  {
   "cell_type": "code",
   "execution_count": 207,
   "id": "ed0dd314",
   "metadata": {},
   "outputs": [
    {
     "data": {
      "text/plain": [
       "0    196\n",
       "1      3\n",
       "Name: best_driver, dtype: int64"
      ]
     },
     "execution_count": 207,
     "metadata": {},
     "output_type": "execute_result"
    }
   ],
   "source": [
    "drivers['best_driver'].value_counts()"
   ]
  },
  {
   "cell_type": "code",
   "execution_count": 208,
   "id": "0953abaa",
   "metadata": {},
   "outputs": [
    {
     "data": {
      "text/plain": [
       "date\n",
       "2010                                                 4,67\n",
       "2015                                                 4,74\n",
       "2016                                 4,654,954,724,764,78\n",
       "2017                         4,854,864,924,704,644,385,00\n",
       "2018    4,834,874,934,814,694,744,814,645,004,754,774,...\n",
       "2019    4,634,664,844,944,684,714,754,804,644,914,824,...\n",
       "2020    4,884,814,814,814,814,814,694,774,814,664,664,...\n",
       "2021    4,644,694,704,714,724,734,904,814,784,794,644,...\n",
       "2022    4,674,684,754,764,774,784,794,804,814,824,894,...\n",
       "Name: rating, dtype: object"
      ]
     },
     "execution_count": 208,
     "metadata": {},
     "output_type": "execute_result"
    }
   ],
   "source": [
    "drivers.groupby('date')['rating'].sum()"
   ]
  },
  {
   "cell_type": "code",
   "execution_count": 210,
   "id": "9271eb72",
   "metadata": {},
   "outputs": [
    {
     "data": {
      "text/plain": [
       "9"
      ]
     },
     "execution_count": 210,
     "metadata": {},
     "output_type": "execute_result"
    }
   ],
   "source": [
    "len(list(drivers.groupby('date')))"
   ]
  },
  {
   "cell_type": "code",
   "execution_count": 221,
   "id": "5174e437",
   "metadata": {},
   "outputs": [
    {
     "data": {
      "text/plain": [
       "2022"
      ]
     },
     "execution_count": 221,
     "metadata": {},
     "output_type": "execute_result"
    }
   ],
   "source": [
    "list(drivers.groupby('date'))[8][0]"
   ]
  },
  {
   "cell_type": "code",
   "execution_count": null,
   "id": "76ce9b45",
   "metadata": {},
   "outputs": [],
   "source": [
    "#Найдем количество водителей, которые зарегистрировались в сервисе по годам"
   ]
  },
  {
   "cell_type": "code",
   "execution_count": 222,
   "id": "0abdd680",
   "metadata": {},
   "outputs": [
    {
     "data": {
      "text/plain": [
       "2020    61\n",
       "2021    56\n",
       "2022    29\n",
       "2018    20\n",
       "2019    19\n",
       "2017     7\n",
       "2016     5\n",
       "2015     1\n",
       "2010     1\n",
       "Name: date, dtype: int64"
      ]
     },
     "execution_count": 222,
     "metadata": {},
     "output_type": "execute_result"
    }
   ],
   "source": [
    "drivers['date'].value_counts()"
   ]
  },
  {
   "cell_type": "code",
   "execution_count": 223,
   "id": "f45db7aa",
   "metadata": {
    "scrolled": true
   },
   "outputs": [
    {
     "data": {
      "text/plain": [
       "date\n",
       "2010     1\n",
       "2015     1\n",
       "2016     5\n",
       "2017     7\n",
       "2018    20\n",
       "2019    19\n",
       "2020    61\n",
       "2021    56\n",
       "2022    29\n",
       "dtype: int64"
      ]
     },
     "execution_count": 223,
     "metadata": {},
     "output_type": "execute_result"
    }
   ],
   "source": [
    "drivers.groupby('date').size()"
   ]
  },
  {
   "cell_type": "code",
   "execution_count": null,
   "id": "80cc5f1f",
   "metadata": {},
   "outputs": [],
   "source": [
    "#Найдем распределение водителей по рейтингам в зависимости от пренадлежности к группе тарифов"
   ]
  },
  {
   "cell_type": "code",
   "execution_count": 224,
   "id": "e2a6b36a",
   "metadata": {},
   "outputs": [
    {
     "data": {
      "text/plain": [
       "tariff_cat  rating\n",
       "Ultima      4,93       5\n",
       "            4,94       4\n",
       "            4,95       4\n",
       "            4,96       4\n",
       "            4,97       3\n",
       "            5,00       3\n",
       "            4,91       2\n",
       "            4,92       2\n",
       "            4,99       2\n",
       "Комфорт +   4,99       8\n",
       "            4,91       7\n",
       "            4,88       4\n",
       "            4,89       4\n",
       "            4,92       4\n",
       "            4,93       4\n",
       "            5,00       3\n",
       "            4,96       2\n",
       "            4,79       1\n",
       "            4,82       1\n",
       "            4,85       1\n",
       "            4,87       1\n",
       "            4,94       1\n",
       "            4,97       1\n",
       "Массовые    4,64      14\n",
       "            4,81      13\n",
       "            4,77       6\n",
       "            4,75       5\n",
       "            4,79       5\n",
       "            4,85       5\n",
       "            4,89       5\n",
       "            4,78       4\n",
       "            4,83       4\n",
       "            4,87       4\n",
       "            4,93       4\n",
       "            4,66       3\n",
       "            4,67       3\n",
       "            4,69       3\n",
       "            4,73       3\n",
       "            4,74       3\n",
       "            4,76       3\n",
       "            4,80       3\n",
       "            4,82       3\n",
       "            4,88       3\n",
       "            4,91       3\n",
       "            4,38       2\n",
       "            4,68       2\n",
       "            4,70       2\n",
       "            4,71       2\n",
       "            4,72       2\n",
       "            4,84       2\n",
       "            4,86       2\n",
       "            4,90       2\n",
       "            4,92       2\n",
       "            4,94       2\n",
       "            4,95       2\n",
       "            4,96       2\n",
       "            4,99       2\n",
       "            4,63       1\n",
       "            4,65       1\n",
       "            5,00       1\n",
       "Name: rating, dtype: int64"
      ]
     },
     "execution_count": 224,
     "metadata": {},
     "output_type": "execute_result"
    }
   ],
   "source": [
    "drivers.groupby('tariff_cat')['rating'].value_counts()"
   ]
  },
  {
   "cell_type": "code",
   "execution_count": 225,
   "id": "1a9150b0",
   "metadata": {},
   "outputs": [
    {
     "data": {
      "text/plain": [
       "tariff_cat  tariff   \n",
       "Ultima      Premier           4,964,974,934,944,954,964,974,934,944,954,96\n",
       "            Бизнес       5,004,994,994,934,924,914,914,924,934,944,954,...\n",
       "            Комфорт                                                      0\n",
       "            Комфорт +                                                    0\n",
       "            Эконом                                                       0\n",
       "Комфорт +   Premier                                                      0\n",
       "            Бизнес                                                       0\n",
       "            Комфорт                                                      0\n",
       "            Комфорт +    4,994,994,934,924,914,994,994,934,924,914,874,...\n",
       "            Эконом                                                       0\n",
       "Массовые    Premier                                                      0\n",
       "            Бизнес                                                       0\n",
       "            Комфорт                   4,894,894,885,004,964,914,994,994,85\n",
       "            Комфорт +                                                    0\n",
       "            Эконом       4,634,644,654,664,674,684,694,704,714,724,734,...\n",
       "Name: rating, dtype: object"
      ]
     },
     "execution_count": 225,
     "metadata": {},
     "output_type": "execute_result"
    }
   ],
   "source": [
    "drivers.groupby(['tariff_cat','tariff'])['rating'].sum()"
   ]
  },
  {
   "cell_type": "code",
   "execution_count": 229,
   "id": "540c611a",
   "metadata": {},
   "outputs": [],
   "source": [
    "#Визуализируем данные с помощью графиков"
   ]
  },
  {
   "cell_type": "code",
   "execution_count": 226,
   "id": "38d9e90a",
   "metadata": {},
   "outputs": [
    {
     "data": {
      "text/plain": [
       "<AxesSubplot:>"
      ]
     },
     "execution_count": 226,
     "metadata": {},
     "output_type": "execute_result"
    },
    {
     "data": {
      "image/png": "[encoded data removed]",
      "text/plain": [
       "<Figure size 640x480 with 1 Axes>"
      ]
     },
     "metadata": {},
     "output_type": "display_data"
    }
   ],
   "source": [
    "drivers['rating'].hist()"
   ]
  },
  {
   "cell_type": "code",
   "execution_count": 228,
   "id": "6c21d51e",
   "metadata": {},
   "outputs": [
    {
     "data": {
      "text/plain": [
       "<AxesSubplot:>"
      ]
     },
     "execution_count": 228,
     "metadata": {},
     "output_type": "execute_result"
    },
    {
     "data": {
      "image/png": "[encoded data removed]",
      "text/plain": [
       "<Figure size 640x480 with 1 Axes>"
      ]
     },
     "metadata": {},
     "output_type": "display_data"
    }
   ],
   "source": [
    "drivers['tariff_cat'].value_counts().plot(kind='bar')"
   ]
  },
  {
   "cell_type": "code",
   "execution_count": 230,
   "id": "f2aa0c2c",
   "metadata": {},
   "outputs": [
    {
     "data": {
      "text/plain": [
       "<AxesSubplot:xlabel='tariff_cat'>"
      ]
     },
     "execution_count": 230,
     "metadata": {},
     "output_type": "execute_result"
    },
    {
     "data": {
      "image/png": "[encoded data removed]",
      "text/plain": [
       "<Figure size 640x480 with 1 Axes>"
      ]
     },
     "metadata": {},
     "output_type": "display_data"
    }
   ],
   "source": [
    "drivers.groupby('tariff_cat').size().plot(kind='bar')"
   ]
  },
  {
   "cell_type": "code",
   "execution_count": 232,
   "id": "9263f1b9",
   "metadata": {},
   "outputs": [
    {
     "data": {
      "text/plain": [
       "<AxesSubplot:xlabel='tariff,None'>"
      ]
     },
     "execution_count": 232,
     "metadata": {},
     "output_type": "execute_result"
    },
    {
     "data": {
      "image/png": "[encoded data removed]",
      "text/plain": [
       "<Figure size 640x480 with 1 Axes>"
      ]
     },
     "metadata": {},
     "output_type": "display_data"
    }
   ],
   "source": [
    "drivers.groupby('tariff')['tariff_cat'].value_counts().plot(kind='bar')"
   ]
  },
  {
   "cell_type": "code",
   "execution_count": 233,
   "id": "e70ed41d",
   "metadata": {},
   "outputs": [
    {
     "data": {
      "text/plain": [
       "<AxesSubplot:xlabel='tariff'>"
      ]
     },
     "execution_count": 233,
     "metadata": {},
     "output_type": "execute_result"
    },
    {
     "data": {
      "image/png": "[encoded data removed]",
      "text/plain": [
       "<Figure size 640x480 with 1 Axes>"
      ]
     },
     "metadata": {},
     "output_type": "display_data"
    }
   ],
   "source": [
    "drivers.groupby('tariff')['tariff_cat'].value_counts().unstack().plot(kind='bar')"
   ]
  },
  {
   "cell_type": "code",
   "execution_count": 235,
   "id": "22e79775",
   "metadata": {},
   "outputs": [
    {
     "data": {
      "text/plain": [
       "<AxesSubplot:xlabel='tariff_cat'>"
      ]
     },
     "execution_count": 235,
     "metadata": {},
     "output_type": "execute_result"
    },
    {
     "data": {
      "image/png": "[encoded data removed]",
      "text/plain": [
       "<Figure size 640x480 with 1 Axes>"
      ]
     },
     "metadata": {},
     "output_type": "display_data"
    }
   ],
   "source": [
    "drivers.groupby('tariff_cat')['tariff'].value_counts().unstack().plot(kind='bar', stacked=True)"
   ]
  },
  {
   "cell_type": "code",
   "execution_count": 239,
   "id": "7af7d5ec",
   "metadata": {},
   "outputs": [],
   "source": [
    "#среднее число поездок в ноябре"
   ]
  },
  {
   "cell_type": "code",
   "execution_count": 237,
   "id": "f1b83cc9",
   "metadata": {},
   "outputs": [
    {
     "data": {
      "text/plain": [
       "3519.3366834170856"
      ]
     },
     "execution_count": 237,
     "metadata": {},
     "output_type": "execute_result"
    }
   ],
   "source": [
    "drivers['nov_trips'].sum() / len(drivers['nov_trips'])"
   ]
  },
  {
   "cell_type": "code",
   "execution_count": 244,
   "id": "3f4ee757",
   "metadata": {},
   "outputs": [
    {
     "data": {
      "text/plain": [
       "3519.3366834170856"
      ]
     },
     "execution_count": 244,
     "metadata": {},
     "output_type": "execute_result"
    }
   ],
   "source": [
    "drivers['nov_trips'].mean()"
   ]
  },
  {
   "cell_type": "code",
   "execution_count": null,
   "id": "dcb944ad",
   "metadata": {},
   "outputs": [],
   "source": [
    "#"
   ]
  },
  {
   "cell_type": "code",
   "execution_count": 246,
   "id": "f16ba687",
   "metadata": {},
   "outputs": [
    {
     "name": "stdout",
     "output_type": "stream",
     "text": [
      "199\n",
      "99 100\n",
      "5201.0\n"
     ]
    }
   ],
   "source": [
    "trips_sorted = drivers['nov_trips'].sort_values().reset_index(drop=True)\n",
    "print(len(trips_sorted))\n",
    "ind_1, ind_2 = int(len(trips_sorted)/ 2), int(len(trips_sorted) / 2 + 1)\n",
    "print(ind_1, ind_2)\n",
    "print(trips_sorted[ind_1] + trips_sorted[ind_2] / 2)"
   ]
  },
  {
   "cell_type": "code",
   "execution_count": 247,
   "id": "0f9c68db",
   "metadata": {},
   "outputs": [],
   "source": [
    "#Медиана"
   ]
  },
  {
   "cell_type": "code",
   "execution_count": 248,
   "id": "d7cf70d7",
   "metadata": {},
   "outputs": [
    {
     "data": {
      "text/plain": [
       "3466.0"
      ]
     },
     "execution_count": 248,
     "metadata": {},
     "output_type": "execute_result"
    }
   ],
   "source": [
    "drivers['nov_trips'].median()"
   ]
  },
  {
   "cell_type": "code",
   "execution_count": 249,
   "id": "0f7f668a",
   "metadata": {},
   "outputs": [
    {
     "data": {
      "text/plain": [
       "3041    3\n",
       "3984    2\n",
       "2952    2\n",
       "3322    2\n",
       "3393    2\n",
       "       ..\n",
       "3444    1\n",
       "3445    1\n",
       "3441    1\n",
       "3431    1\n",
       "2867    1\n",
       "Name: nov_trips, Length: 189, dtype: int64"
      ]
     },
     "execution_count": 249,
     "metadata": {},
     "output_type": "execute_result"
    }
   ],
   "source": [
    "drivers['nov_trips'].value_counts()"
   ]
  },
  {
   "cell_type": "code",
   "execution_count": 250,
   "id": "9c297214",
   "metadata": {},
   "outputs": [
    {
     "data": {
      "text/plain": [
       "0    3041\n",
       "Name: nov_trips, dtype: int64"
      ]
     },
     "execution_count": 250,
     "metadata": {},
     "output_type": "execute_result"
    }
   ],
   "source": [
    "drivers['nov_trips'].mode()"
   ]
  },
  {
   "cell_type": "code",
   "execution_count": 251,
   "id": "9afedc6c",
   "metadata": {},
   "outputs": [
    {
     "data": {
      "text/plain": [
       "<AxesSubplot:>"
      ]
     },
     "execution_count": 251,
     "metadata": {},
     "output_type": "execute_result"
    },
    {
     "data": {
      "image/png": "[encoded data removed]",
      "text/plain": [
       "<Figure size 640x480 with 1 Axes>"
      ]
     },
     "metadata": {},
     "output_type": "display_data"
    }
   ],
   "source": [
    "drivers['nov_trips'].hist()"
   ]
  },
  {
   "cell_type": "code",
   "execution_count": null,
   "id": "852730eb",
   "metadata": {},
   "outputs": [],
   "source": [
    "#Количественные переменные"
   ]
  },
  {
   "cell_type": "code",
   "execution_count": 252,
   "id": "59cce53a",
   "metadata": {},
   "outputs": [
    {
     "data": {
      "text/html": [
       "<div>\n",
       "<style scoped>\n",
       "    .dataframe tbody tr th:only-of-type {\n",
       "        vertical-align: middle;\n",
       "    }\n",
       "\n",
       "    .dataframe tbody tr th {\n",
       "        vertical-align: top;\n",
       "    }\n",
       "\n",
       "    .dataframe thead th {\n",
       "        text-align: right;\n",
       "    }\n",
       "</style>\n",
       "<table border=\"1\" class=\"dataframe\">\n",
       "  <thead>\n",
       "    <tr style=\"text-align: right;\">\n",
       "      <th></th>\n",
       "      <th>id</th>\n",
       "      <th>date</th>\n",
       "      <th>nov_trips</th>\n",
       "      <th>oct_trips</th>\n",
       "      <th>sep_trips</th>\n",
       "    </tr>\n",
       "  </thead>\n",
       "  <tbody>\n",
       "    <tr>\n",
       "      <th>count</th>\n",
       "      <td>199.000000</td>\n",
       "      <td>199.000000</td>\n",
       "      <td>199.000000</td>\n",
       "      <td>199.000000</td>\n",
       "      <td>199.000000</td>\n",
       "    </tr>\n",
       "    <tr>\n",
       "      <th>mean</th>\n",
       "      <td>4600.000000</td>\n",
       "      <td>2019.994975</td>\n",
       "      <td>3519.336683</td>\n",
       "      <td>3967.417085</td>\n",
       "      <td>3917.236181</td>\n",
       "    </tr>\n",
       "    <tr>\n",
       "      <th>std</th>\n",
       "      <td>57.590508</td>\n",
       "      <td>1.649908</td>\n",
       "      <td>444.935612</td>\n",
       "      <td>810.011281</td>\n",
       "      <td>784.533864</td>\n",
       "    </tr>\n",
       "    <tr>\n",
       "      <th>min</th>\n",
       "      <td>4501.000000</td>\n",
       "      <td>2010.000000</td>\n",
       "      <td>2849.000000</td>\n",
       "      <td>2502.000000</td>\n",
       "      <td>2506.000000</td>\n",
       "    </tr>\n",
       "    <tr>\n",
       "      <th>25%</th>\n",
       "      <td>4550.500000</td>\n",
       "      <td>2019.000000</td>\n",
       "      <td>3217.000000</td>\n",
       "      <td>3309.000000</td>\n",
       "      <td>3260.000000</td>\n",
       "    </tr>\n",
       "    <tr>\n",
       "      <th>50%</th>\n",
       "      <td>4600.000000</td>\n",
       "      <td>2020.000000</td>\n",
       "      <td>3466.000000</td>\n",
       "      <td>4013.000000</td>\n",
       "      <td>3983.000000</td>\n",
       "    </tr>\n",
       "    <tr>\n",
       "      <th>75%</th>\n",
       "      <td>4649.500000</td>\n",
       "      <td>2021.000000</td>\n",
       "      <td>3769.500000</td>\n",
       "      <td>4656.000000</td>\n",
       "      <td>4610.500000</td>\n",
       "    </tr>\n",
       "    <tr>\n",
       "      <th>max</th>\n",
       "      <td>4699.000000</td>\n",
       "      <td>2022.000000</td>\n",
       "      <td>5747.000000</td>\n",
       "      <td>5294.000000</td>\n",
       "      <td>5233.000000</td>\n",
       "    </tr>\n",
       "  </tbody>\n",
       "</table>\n",
       "</div>"
      ],
      "text/plain": [
       "                id         date    nov_trips    oct_trips    sep_trips\n",
       "count   199.000000   199.000000   199.000000   199.000000   199.000000\n",
       "mean   4600.000000  2019.994975  3519.336683  3967.417085  3917.236181\n",
       "std      57.590508     1.649908   444.935612   810.011281   784.533864\n",
       "min    4501.000000  2010.000000  2849.000000  2502.000000  2506.000000\n",
       "25%    4550.500000  2019.000000  3217.000000  3309.000000  3260.000000\n",
       "50%    4600.000000  2020.000000  3466.000000  4013.000000  3983.000000\n",
       "75%    4649.500000  2021.000000  3769.500000  4656.000000  4610.500000\n",
       "max    4699.000000  2022.000000  5747.000000  5294.000000  5233.000000"
      ]
     },
     "execution_count": 252,
     "metadata": {},
     "output_type": "execute_result"
    }
   ],
   "source": [
    "drivers.describe()"
   ]
  },
  {
   "cell_type": "code",
   "execution_count": 260,
   "id": "14ba0873",
   "metadata": {},
   "outputs": [
    {
     "data": {
      "text/plain": [
       "<AxesSubplot:xlabel='date'>"
      ]
     },
     "execution_count": 260,
     "metadata": {},
     "output_type": "execute_result"
    },
    {
     "data": {
      "image/png": "[encoded data removed]",
      "text/plain": [
       "<Figure size 640x480 with 1 Axes>"
      ]
     },
     "metadata": {},
     "output_type": "display_data"
    }
   ],
   "source": [
    "drivers.groupby('date')['nov_trips'].mean().plot(kind='bar')"
   ]
  },
  {
   "cell_type": "code",
   "execution_count": 268,
   "id": "9396f025",
   "metadata": {},
   "outputs": [
    {
     "data": {
      "text/html": [
       "<div>\n",
       "<style scoped>\n",
       "    .dataframe tbody tr th:only-of-type {\n",
       "        vertical-align: middle;\n",
       "    }\n",
       "\n",
       "    .dataframe tbody tr th {\n",
       "        vertical-align: top;\n",
       "    }\n",
       "\n",
       "    .dataframe thead th {\n",
       "        text-align: right;\n",
       "    }\n",
       "</style>\n",
       "<table border=\"1\" class=\"dataframe\">\n",
       "  <thead>\n",
       "    <tr style=\"text-align: right;\">\n",
       "      <th></th>\n",
       "      <th>id</th>\n",
       "      <th>date</th>\n",
       "      <th>city</th>\n",
       "      <th>tariff</th>\n",
       "      <th>rating</th>\n",
       "      <th>complains</th>\n",
       "      <th>nov_trips</th>\n",
       "      <th>oct_trips</th>\n",
       "      <th>sep_trips</th>\n",
       "      <th>tips</th>\n",
       "      <th>tips_sum_nov</th>\n",
       "      <th>name</th>\n",
       "      <th>top_driver</th>\n",
       "    </tr>\n",
       "  </thead>\n",
       "  <tbody>\n",
       "    <tr>\n",
       "      <th>0</th>\n",
       "      <td>4501</td>\n",
       "      <td>2019</td>\n",
       "      <td>Москва</td>\n",
       "      <td>Эконом</td>\n",
       "      <td>4,63</td>\n",
       "      <td>Да</td>\n",
       "      <td>5257</td>\n",
       "      <td>2974</td>\n",
       "      <td>4061</td>\n",
       "      <td>Нет</td>\n",
       "      <td>р.0,00</td>\n",
       "      <td>Евгений</td>\n",
       "      <td>Нет</td>\n",
       "    </tr>\n",
       "    <tr>\n",
       "      <th>1</th>\n",
       "      <td>4502</td>\n",
       "      <td>2021</td>\n",
       "      <td>Москва</td>\n",
       "      <td>Эконом</td>\n",
       "      <td>4,64</td>\n",
       "      <td>Да</td>\n",
       "      <td>4691</td>\n",
       "      <td>5076</td>\n",
       "      <td>3899</td>\n",
       "      <td>Нет</td>\n",
       "      <td>р.0,00</td>\n",
       "      <td>Константин</td>\n",
       "      <td>Нет</td>\n",
       "    </tr>\n",
       "    <tr>\n",
       "      <th>2</th>\n",
       "      <td>4503</td>\n",
       "      <td>2016</td>\n",
       "      <td>Москва</td>\n",
       "      <td>Эконом</td>\n",
       "      <td>4,65</td>\n",
       "      <td>Да</td>\n",
       "      <td>4497</td>\n",
       "      <td>4595</td>\n",
       "      <td>2870</td>\n",
       "      <td>Нет</td>\n",
       "      <td>р.0,00</td>\n",
       "      <td>Шамиль</td>\n",
       "      <td>Нет</td>\n",
       "    </tr>\n",
       "    <tr>\n",
       "      <th>3</th>\n",
       "      <td>4504</td>\n",
       "      <td>2019</td>\n",
       "      <td>Москва</td>\n",
       "      <td>Эконом</td>\n",
       "      <td>4,66</td>\n",
       "      <td>Да</td>\n",
       "      <td>4321</td>\n",
       "      <td>4431</td>\n",
       "      <td>3445</td>\n",
       "      <td>Нет</td>\n",
       "      <td>р.0,00</td>\n",
       "      <td>Иван</td>\n",
       "      <td>Нет</td>\n",
       "    </tr>\n",
       "    <tr>\n",
       "      <th>4</th>\n",
       "      <td>4505</td>\n",
       "      <td>2022</td>\n",
       "      <td>Москва</td>\n",
       "      <td>Эконом</td>\n",
       "      <td>4,67</td>\n",
       "      <td>Да</td>\n",
       "      <td>4289</td>\n",
       "      <td>4621</td>\n",
       "      <td>4839</td>\n",
       "      <td>Нет</td>\n",
       "      <td>р.0,00</td>\n",
       "      <td>Александр</td>\n",
       "      <td>Нет</td>\n",
       "    </tr>\n",
       "  </tbody>\n",
       "</table>\n",
       "</div>"
      ],
      "text/plain": [
       "     id  date    city  tariff rating complains  nov_trips  oct_trips  \\\n",
       "0  4501  2019  Москва  Эконом   4,63        Да       5257       2974   \n",
       "1  4502  2021  Москва  Эконом   4,64        Да       4691       5076   \n",
       "2  4503  2016  Москва  Эконом   4,65        Да       4497       4595   \n",
       "3  4504  2019  Москва  Эконом   4,66        Да       4321       4431   \n",
       "4  4505  2022  Москва  Эконом   4,67        Да       4289       4621   \n",
       "\n",
       "   sep_trips tips tips_sum_nov        name top_driver  \n",
       "0       4061  Нет       р.0,00     Евгений        Нет  \n",
       "1       3899  Нет       р.0,00  Константин        Нет  \n",
       "2       2870  Нет       р.0,00      Шамиль        Нет  \n",
       "3       3445  Нет       р.0,00        Иван        Нет  \n",
       "4       4839  Нет       р.0,00   Александр        Нет  "
      ]
     },
     "execution_count": 268,
     "metadata": {},
     "output_type": "execute_result"
    }
   ],
   "source": [
    "import pandas as pd\n",
    "drivers = pd.read_csv('Downloads/DRIVERMARKETING_04 - Лист1-7.csv')\n",
    "drivers.head()"
   ]
  },
  {
   "cell_type": "code",
   "execution_count": 1,
   "id": "5a79b6d6",
   "metadata": {},
   "outputs": [],
   "source": [
    "# Меры разброса"
   ]
  },
  {
   "cell_type": "code",
   "execution_count": 3,
   "id": "cb09692f",
   "metadata": {},
   "outputs": [],
   "source": [
    "import pandas as pd\n",
    "import numpy as np\n",
    "\n",
    "drivers = pd.read_csv('Downloads/DRIVERMARKETING_04 - Лист1-7.csv')"
   ]
  },
  {
   "cell_type": "code",
   "execution_count": 6,
   "id": "e5bb1a0a",
   "metadata": {},
   "outputs": [],
   "source": [
    "drivers_date = pd.DataFrame(drivers.groupby('date')['nov_trips'].sum())"
   ]
  },
  {
   "cell_type": "code",
   "execution_count": 7,
   "id": "10e42722",
   "metadata": {},
   "outputs": [
    {
     "data": {
      "text/plain": [
       "<AxesSubplot:xlabel='date'>"
      ]
     },
     "execution_count": 7,
     "metadata": {},
     "output_type": "execute_result"
    },
    {
     "data": {
      "image/png": "[encoded data removed]",
      "text/plain": [
       "<Figure size 640x480 with 1 Axes>"
      ]
     },
     "metadata": {},
     "output_type": "display_data"
    }
   ],
   "source": [
    "drivers_date.plot(kind='bar')"
   ]
  },
  {
   "cell_type": "code",
   "execution_count": null,
   "id": "ed53996b",
   "metadata": {},
   "outputs": [],
   "source": [
    "#Размах"
   ]
  },
  {
   "cell_type": "code",
   "execution_count": 9,
   "id": "5a59d37a",
   "metadata": {},
   "outputs": [
    {
     "data": {
      "text/plain": [
       "200683"
      ]
     },
     "execution_count": 9,
     "metadata": {},
     "output_type": "execute_result"
    }
   ],
   "source": [
    "drivers_date['nov_trips'].max() - drivers_date['nov_trips'].min()"
   ]
  },
  {
   "cell_type": "code",
   "execution_count": 10,
   "id": "900493ac",
   "metadata": {},
   "outputs": [],
   "source": [
    "#посчитаем интерквартильный размах"
   ]
  },
  {
   "cell_type": "code",
   "execution_count": 13,
   "id": "e49efc1a",
   "metadata": {},
   "outputs": [
    {
     "data": {
      "text/plain": [
       "70140.0"
      ]
     },
     "execution_count": 13,
     "metadata": {},
     "output_type": "execute_result"
    }
   ],
   "source": [
    "drivers_date.describe()['nov_trips']['50%']"
   ]
  },
  {
   "cell_type": "code",
   "execution_count": 14,
   "id": "33ce891d",
   "metadata": {},
   "outputs": [
    {
     "data": {
      "text/plain": [
       "84070.0"
      ]
     },
     "execution_count": 14,
     "metadata": {},
     "output_type": "execute_result"
    }
   ],
   "source": [
    "drivers_date.describe()['nov_trips']['75%'] - drivers_date.describe()['nov_trips']['25%']"
   ]
  },
  {
   "cell_type": "code",
   "execution_count": 25,
   "id": "04edd143",
   "metadata": {},
   "outputs": [],
   "source": [
    "#Небольшая пауза - выучим новый код, чтобы порадоваться мему\n",
    "#Источник: https://wiki.programstore.ru/python-rabota-s-izobrazheniyami/"
   ]
  },
  {
   "cell_type": "code",
   "execution_count": 26,
   "id": "60f01372",
   "metadata": {},
   "outputs": [],
   "source": [
    "from PIL import Image\n",
    "img=Image.open('meme.jpeg')\n",
    "img.show()"
   ]
  },
  {
   "cell_type": "code",
   "execution_count": 34,
   "id": "fea77392",
   "metadata": {},
   "outputs": [],
   "source": [
    "#Дисперсия и Среднеквадратичное отклонение "
   ]
  },
  {
   "cell_type": "code",
   "execution_count": 35,
   "id": "e0c02985",
   "metadata": {},
   "outputs": [
    {
     "name": "stdout",
     "output_type": "stream",
     "text": [
      "5473021754.802469 73979.87398477014\n"
     ]
    }
   ],
   "source": [
    "drivers_mean = drivers_date['nov_trips'].mean()\n",
    "deviations = drivers_date['nov_trips'] - drivers_mean\n",
    "sq_deviations = deviations ** 2\n",
    "variance_samp = sq_deviations.sum() / len(drivers_date) - 1\n",
    "std_samp = np.sqrt(variance_samp)\n",
    "print(variance_samp, std_samp)"
   ]
  },
  {
   "cell_type": "code",
   "execution_count": 38,
   "id": "056db981",
   "metadata": {},
   "outputs": [],
   "source": [
    "#Использование дисперсии и среднеквадратического отклонения в таблицах"
   ]
  },
  {
   "cell_type": "code",
   "execution_count": 39,
   "id": "a11acdd8",
   "metadata": {},
   "outputs": [
    {
     "data": {
      "text/plain": [
       "date\n",
       "2010           NaN\n",
       "2015           NaN\n",
       "2016    581.648691\n",
       "2017    456.718628\n",
       "2018    293.503138\n",
       "2019    516.219948\n",
       "2020    269.733978\n",
       "2021    512.638327\n",
       "2022    476.227781\n",
       "Name: nov_trips, dtype: float64"
      ]
     },
     "execution_count": 39,
     "metadata": {},
     "output_type": "execute_result"
    }
   ],
   "source": [
    "drivers.groupby('date')['nov_trips'].std()"
   ]
  },
  {
   "cell_type": "code",
   "execution_count": 41,
   "id": "4f4e1d55",
   "metadata": {},
   "outputs": [
    {
     "data": {
      "text/html": [
       "<div>\n",
       "<style scoped>\n",
       "    .dataframe tbody tr th:only-of-type {\n",
       "        vertical-align: middle;\n",
       "    }\n",
       "\n",
       "    .dataframe tbody tr th {\n",
       "        vertical-align: top;\n",
       "    }\n",
       "\n",
       "    .dataframe thead th {\n",
       "        text-align: right;\n",
       "    }\n",
       "</style>\n",
       "<table border=\"1\" class=\"dataframe\">\n",
       "  <thead>\n",
       "    <tr style=\"text-align: right;\">\n",
       "      <th></th>\n",
       "      <th>mean</th>\n",
       "      <th>std</th>\n",
       "    </tr>\n",
       "    <tr>\n",
       "      <th>date</th>\n",
       "      <th></th>\n",
       "      <th></th>\n",
       "    </tr>\n",
       "  </thead>\n",
       "  <tbody>\n",
       "    <tr>\n",
       "      <th>2010</th>\n",
       "      <td>3662.000000</td>\n",
       "      <td>NaN</td>\n",
       "    </tr>\n",
       "    <tr>\n",
       "      <th>2015</th>\n",
       "      <td>4096.000000</td>\n",
       "      <td>NaN</td>\n",
       "    </tr>\n",
       "    <tr>\n",
       "      <th>2016</th>\n",
       "      <td>3674.800000</td>\n",
       "      <td>581.648691</td>\n",
       "    </tr>\n",
       "    <tr>\n",
       "      <th>2017</th>\n",
       "      <td>3510.714286</td>\n",
       "      <td>456.718628</td>\n",
       "    </tr>\n",
       "    <tr>\n",
       "      <th>2018</th>\n",
       "      <td>3572.250000</td>\n",
       "      <td>293.503138</td>\n",
       "    </tr>\n",
       "    <tr>\n",
       "      <th>2019</th>\n",
       "      <td>3691.578947</td>\n",
       "      <td>516.219948</td>\n",
       "    </tr>\n",
       "    <tr>\n",
       "      <th>2020</th>\n",
       "      <td>3299.459016</td>\n",
       "      <td>269.733978</td>\n",
       "    </tr>\n",
       "    <tr>\n",
       "      <th>2021</th>\n",
       "      <td>3649.017857</td>\n",
       "      <td>512.638327</td>\n",
       "    </tr>\n",
       "    <tr>\n",
       "      <th>2022</th>\n",
       "      <td>3532.551724</td>\n",
       "      <td>476.227781</td>\n",
       "    </tr>\n",
       "  </tbody>\n",
       "</table>\n",
       "</div>"
      ],
      "text/plain": [
       "             mean         std\n",
       "date                         \n",
       "2010  3662.000000         NaN\n",
       "2015  4096.000000         NaN\n",
       "2016  3674.800000  581.648691\n",
       "2017  3510.714286  456.718628\n",
       "2018  3572.250000  293.503138\n",
       "2019  3691.578947  516.219948\n",
       "2020  3299.459016  269.733978\n",
       "2021  3649.017857  512.638327\n",
       "2022  3532.551724  476.227781"
      ]
     },
     "execution_count": 41,
     "metadata": {},
     "output_type": "execute_result"
    }
   ],
   "source": [
    "drivers.groupby('date')['nov_trips'].agg(['mean','std'])"
   ]
  },
  {
   "cell_type": "code",
   "execution_count": 43,
   "id": "caa47a50",
   "metadata": {},
   "outputs": [],
   "source": [
    "#Таблица для всех мер разброса"
   ]
  },
  {
   "cell_type": "code",
   "execution_count": 42,
   "id": "85cbc15c",
   "metadata": {},
   "outputs": [
    {
     "data": {
      "text/html": [
       "<div>\n",
       "<style scoped>\n",
       "    .dataframe tbody tr th:only-of-type {\n",
       "        vertical-align: middle;\n",
       "    }\n",
       "\n",
       "    .dataframe tbody tr th {\n",
       "        vertical-align: top;\n",
       "    }\n",
       "\n",
       "    .dataframe thead tr th {\n",
       "        text-align: left;\n",
       "    }\n",
       "\n",
       "    .dataframe thead tr:last-of-type th {\n",
       "        text-align: right;\n",
       "    }\n",
       "</style>\n",
       "<table border=\"1\" class=\"dataframe\">\n",
       "  <thead>\n",
       "    <tr>\n",
       "      <th></th>\n",
       "      <th colspan=\"2\" halign=\"left\">var</th>\n",
       "      <th colspan=\"2\" halign=\"left\">std</th>\n",
       "      <th colspan=\"2\" halign=\"left\">range_values</th>\n",
       "    </tr>\n",
       "    <tr>\n",
       "      <th></th>\n",
       "      <th>nov_trips</th>\n",
       "      <th>oct_trips</th>\n",
       "      <th>nov_trips</th>\n",
       "      <th>oct_trips</th>\n",
       "      <th>nov_trips</th>\n",
       "      <th>oct_trips</th>\n",
       "    </tr>\n",
       "    <tr>\n",
       "      <th>date</th>\n",
       "      <th></th>\n",
       "      <th></th>\n",
       "      <th></th>\n",
       "      <th></th>\n",
       "      <th></th>\n",
       "      <th></th>\n",
       "    </tr>\n",
       "  </thead>\n",
       "  <tbody>\n",
       "    <tr>\n",
       "      <th>2016</th>\n",
       "      <td>338315.200000</td>\n",
       "      <td>180139.700000</td>\n",
       "      <td>581.648691</td>\n",
       "      <td>424.428675</td>\n",
       "      <td>1629</td>\n",
       "      <td>1143</td>\n",
       "    </tr>\n",
       "    <tr>\n",
       "      <th>2017</th>\n",
       "      <td>208591.904762</td>\n",
       "      <td>943544.571429</td>\n",
       "      <td>456.718628</td>\n",
       "      <td>971.362225</td>\n",
       "      <td>1065</td>\n",
       "      <td>2359</td>\n",
       "    </tr>\n",
       "    <tr>\n",
       "      <th>2018</th>\n",
       "      <td>86144.092105</td>\n",
       "      <td>760239.357895</td>\n",
       "      <td>293.503138</td>\n",
       "      <td>871.917059</td>\n",
       "      <td>1094</td>\n",
       "      <td>2646</td>\n",
       "    </tr>\n",
       "    <tr>\n",
       "      <th>2019</th>\n",
       "      <td>266483.035088</td>\n",
       "      <td>671339.093567</td>\n",
       "      <td>516.219948</td>\n",
       "      <td>819.352850</td>\n",
       "      <td>2384</td>\n",
       "      <td>2581</td>\n",
       "    </tr>\n",
       "    <tr>\n",
       "      <th>2020</th>\n",
       "      <td>72756.419126</td>\n",
       "      <td>705274.878142</td>\n",
       "      <td>269.733978</td>\n",
       "      <td>839.806453</td>\n",
       "      <td>989</td>\n",
       "      <td>2774</td>\n",
       "    </tr>\n",
       "    <tr>\n",
       "      <th>2021</th>\n",
       "      <td>262798.054221</td>\n",
       "      <td>534979.312987</td>\n",
       "      <td>512.638327</td>\n",
       "      <td>731.422800</td>\n",
       "      <td>2866</td>\n",
       "      <td>2676</td>\n",
       "    </tr>\n",
       "    <tr>\n",
       "      <th>2022</th>\n",
       "      <td>226792.899015</td>\n",
       "      <td>777199.322660</td>\n",
       "      <td>476.227781</td>\n",
       "      <td>881.589089</td>\n",
       "      <td>1422</td>\n",
       "      <td>2729</td>\n",
       "    </tr>\n",
       "    <tr>\n",
       "      <th>2010</th>\n",
       "      <td>NaN</td>\n",
       "      <td>NaN</td>\n",
       "      <td>NaN</td>\n",
       "      <td>NaN</td>\n",
       "      <td>0</td>\n",
       "      <td>0</td>\n",
       "    </tr>\n",
       "    <tr>\n",
       "      <th>2015</th>\n",
       "      <td>NaN</td>\n",
       "      <td>NaN</td>\n",
       "      <td>NaN</td>\n",
       "      <td>NaN</td>\n",
       "      <td>0</td>\n",
       "      <td>0</td>\n",
       "    </tr>\n",
       "  </tbody>\n",
       "</table>\n",
       "</div>"
      ],
      "text/plain": [
       "                var                        std             range_values  \\\n",
       "          nov_trips      oct_trips   nov_trips   oct_trips    nov_trips   \n",
       "date                                                                      \n",
       "2016  338315.200000  180139.700000  581.648691  424.428675         1629   \n",
       "2017  208591.904762  943544.571429  456.718628  971.362225         1065   \n",
       "2018   86144.092105  760239.357895  293.503138  871.917059         1094   \n",
       "2019  266483.035088  671339.093567  516.219948  819.352850         2384   \n",
       "2020   72756.419126  705274.878142  269.733978  839.806453          989   \n",
       "2021  262798.054221  534979.312987  512.638327  731.422800         2866   \n",
       "2022  226792.899015  777199.322660  476.227781  881.589089         1422   \n",
       "2010            NaN            NaN         NaN         NaN            0   \n",
       "2015            NaN            NaN         NaN         NaN            0   \n",
       "\n",
       "                \n",
       "     oct_trips  \n",
       "date            \n",
       "2016      1143  \n",
       "2017      2359  \n",
       "2018      2646  \n",
       "2019      2581  \n",
       "2020      2774  \n",
       "2021      2676  \n",
       "2022      2729  \n",
       "2010         0  \n",
       "2015         0  "
      ]
     },
     "execution_count": 42,
     "metadata": {},
     "output_type": "execute_result"
    }
   ],
   "source": [
    "def range_values (x):\n",
    "    return x.max() - x.min()\n",
    "\n",
    "drivers.pivot_table(index='date',\n",
    "                   values=['nov_trips','oct_trips'],\n",
    "                   aggfunc=['var','std',range_values])"
   ]
  },
  {
   "cell_type": "code",
   "execution_count": 44,
   "id": "bc65cb17",
   "metadata": {},
   "outputs": [],
   "source": [
    "#Z-оценка. Выбросы"
   ]
  },
  {
   "cell_type": "code",
   "execution_count": 48,
   "id": "82531138",
   "metadata": {},
   "outputs": [
    {
     "data": {
      "text/html": [
       "<div>\n",
       "<style scoped>\n",
       "    .dataframe tbody tr th:only-of-type {\n",
       "        vertical-align: middle;\n",
       "    }\n",
       "\n",
       "    .dataframe tbody tr th {\n",
       "        vertical-align: top;\n",
       "    }\n",
       "\n",
       "    .dataframe thead th {\n",
       "        text-align: right;\n",
       "    }\n",
       "</style>\n",
       "<table border=\"1\" class=\"dataframe\">\n",
       "  <thead>\n",
       "    <tr style=\"text-align: right;\">\n",
       "      <th></th>\n",
       "      <th>id</th>\n",
       "      <th>date</th>\n",
       "      <th>city</th>\n",
       "      <th>tariff</th>\n",
       "      <th>rating</th>\n",
       "      <th>complains</th>\n",
       "      <th>nov_trips</th>\n",
       "      <th>oct_trips</th>\n",
       "      <th>sep_trips</th>\n",
       "      <th>tips</th>\n",
       "      <th>tips_sum_nov</th>\n",
       "      <th>name</th>\n",
       "      <th>top_driver</th>\n",
       "    </tr>\n",
       "  </thead>\n",
       "  <tbody>\n",
       "    <tr>\n",
       "      <th>0</th>\n",
       "      <td>4501</td>\n",
       "      <td>2019</td>\n",
       "      <td>Москва</td>\n",
       "      <td>Эконом</td>\n",
       "      <td>4,63</td>\n",
       "      <td>Да</td>\n",
       "      <td>5257</td>\n",
       "      <td>2974</td>\n",
       "      <td>4061</td>\n",
       "      <td>Нет</td>\n",
       "      <td>р.0,00</td>\n",
       "      <td>Евгений</td>\n",
       "      <td>Нет</td>\n",
       "    </tr>\n",
       "    <tr>\n",
       "      <th>1</th>\n",
       "      <td>4502</td>\n",
       "      <td>2021</td>\n",
       "      <td>Москва</td>\n",
       "      <td>Эконом</td>\n",
       "      <td>4,64</td>\n",
       "      <td>Да</td>\n",
       "      <td>4691</td>\n",
       "      <td>5076</td>\n",
       "      <td>3899</td>\n",
       "      <td>Нет</td>\n",
       "      <td>р.0,00</td>\n",
       "      <td>Константин</td>\n",
       "      <td>Нет</td>\n",
       "    </tr>\n",
       "    <tr>\n",
       "      <th>2</th>\n",
       "      <td>4503</td>\n",
       "      <td>2016</td>\n",
       "      <td>Москва</td>\n",
       "      <td>Эконом</td>\n",
       "      <td>4,65</td>\n",
       "      <td>Да</td>\n",
       "      <td>4497</td>\n",
       "      <td>4595</td>\n",
       "      <td>2870</td>\n",
       "      <td>Нет</td>\n",
       "      <td>р.0,00</td>\n",
       "      <td>Шамиль</td>\n",
       "      <td>Нет</td>\n",
       "    </tr>\n",
       "    <tr>\n",
       "      <th>3</th>\n",
       "      <td>4504</td>\n",
       "      <td>2019</td>\n",
       "      <td>Москва</td>\n",
       "      <td>Эконом</td>\n",
       "      <td>4,66</td>\n",
       "      <td>Да</td>\n",
       "      <td>4321</td>\n",
       "      <td>4431</td>\n",
       "      <td>3445</td>\n",
       "      <td>Нет</td>\n",
       "      <td>р.0,00</td>\n",
       "      <td>Иван</td>\n",
       "      <td>Нет</td>\n",
       "    </tr>\n",
       "    <tr>\n",
       "      <th>4</th>\n",
       "      <td>4505</td>\n",
       "      <td>2022</td>\n",
       "      <td>Москва</td>\n",
       "      <td>Эконом</td>\n",
       "      <td>4,67</td>\n",
       "      <td>Да</td>\n",
       "      <td>4289</td>\n",
       "      <td>4621</td>\n",
       "      <td>4839</td>\n",
       "      <td>Нет</td>\n",
       "      <td>р.0,00</td>\n",
       "      <td>Александр</td>\n",
       "      <td>Нет</td>\n",
       "    </tr>\n",
       "  </tbody>\n",
       "</table>\n",
       "</div>"
      ],
      "text/plain": [
       "     id  date    city  tariff rating complains  nov_trips  oct_trips  \\\n",
       "0  4501  2019  Москва  Эконом   4,63        Да       5257       2974   \n",
       "1  4502  2021  Москва  Эконом   4,64        Да       4691       5076   \n",
       "2  4503  2016  Москва  Эконом   4,65        Да       4497       4595   \n",
       "3  4504  2019  Москва  Эконом   4,66        Да       4321       4431   \n",
       "4  4505  2022  Москва  Эконом   4,67        Да       4289       4621   \n",
       "\n",
       "   sep_trips tips tips_sum_nov        name top_driver  \n",
       "0       4061  Нет       р.0,00     Евгений        Нет  \n",
       "1       3899  Нет       р.0,00  Константин        Нет  \n",
       "2       2870  Нет       р.0,00      Шамиль        Нет  \n",
       "3       3445  Нет       р.0,00        Иван        Нет  \n",
       "4       4839  Нет       р.0,00   Александр        Нет  "
      ]
     },
     "execution_count": 48,
     "metadata": {},
     "output_type": "execute_result"
    }
   ],
   "source": [
    "import pandas as pd\n",
    "import scipy.stats\n",
    "\n",
    "drivers = pd.read_csv('Downloads/DRIVERMARKETING_04 - Лист1-8.csv')\n",
    "drivers.head()"
   ]
  },
  {
   "cell_type": "code",
   "execution_count": 55,
   "id": "a36be74b",
   "metadata": {},
   "outputs": [
    {
     "data": {
      "text/plain": [
       "<AxesSubplot:>"
      ]
     },
     "execution_count": 55,
     "metadata": {},
     "output_type": "execute_result"
    },
    {
     "data": {
      "image/png": "[encoded data removed]",
      "text/plain": [
       "<Figure size 640x480 with 1 Axes>"
      ]
     },
     "metadata": {},
     "output_type": "display_data"
    }
   ],
   "source": [
    "drivers['date'].hist(bins = 5)"
   ]
  },
  {
   "cell_type": "code",
   "execution_count": 23,
   "id": "829565be",
   "metadata": {},
   "outputs": [],
   "source": [
    "#Визуализация данных"
   ]
  },
  {
   "cell_type": "code",
   "execution_count": 24,
   "id": "a2ad5701",
   "metadata": {},
   "outputs": [
    {
     "data": {
      "text/html": [
       "<div>\n",
       "<style scoped>\n",
       "    .dataframe tbody tr th:only-of-type {\n",
       "        vertical-align: middle;\n",
       "    }\n",
       "\n",
       "    .dataframe tbody tr th {\n",
       "        vertical-align: top;\n",
       "    }\n",
       "\n",
       "    .dataframe thead th {\n",
       "        text-align: right;\n",
       "    }\n",
       "</style>\n",
       "<table border=\"1\" class=\"dataframe\">\n",
       "  <thead>\n",
       "    <tr style=\"text-align: right;\">\n",
       "      <th></th>\n",
       "      <th>id</th>\n",
       "      <th>date</th>\n",
       "      <th>city</th>\n",
       "      <th>tariff</th>\n",
       "      <th>rating</th>\n",
       "      <th>complains</th>\n",
       "      <th>nov_trips</th>\n",
       "      <th>oct_trips</th>\n",
       "      <th>sep_trips</th>\n",
       "      <th>tips</th>\n",
       "      <th>tips_sum_nov</th>\n",
       "      <th>name</th>\n",
       "      <th>top_driver</th>\n",
       "    </tr>\n",
       "  </thead>\n",
       "  <tbody>\n",
       "    <tr>\n",
       "      <th>0</th>\n",
       "      <td>4501</td>\n",
       "      <td>2019</td>\n",
       "      <td>Москва</td>\n",
       "      <td>Эконом</td>\n",
       "      <td>4,63</td>\n",
       "      <td>Да</td>\n",
       "      <td>5257</td>\n",
       "      <td>2974</td>\n",
       "      <td>4061</td>\n",
       "      <td>Нет</td>\n",
       "      <td>р.0,00</td>\n",
       "      <td>Евгений</td>\n",
       "      <td>Нет</td>\n",
       "    </tr>\n",
       "    <tr>\n",
       "      <th>1</th>\n",
       "      <td>4502</td>\n",
       "      <td>2021</td>\n",
       "      <td>Москва</td>\n",
       "      <td>Эконом</td>\n",
       "      <td>4,64</td>\n",
       "      <td>Да</td>\n",
       "      <td>4691</td>\n",
       "      <td>5076</td>\n",
       "      <td>3899</td>\n",
       "      <td>Нет</td>\n",
       "      <td>р.0,00</td>\n",
       "      <td>Константин</td>\n",
       "      <td>Нет</td>\n",
       "    </tr>\n",
       "    <tr>\n",
       "      <th>2</th>\n",
       "      <td>4503</td>\n",
       "      <td>2016</td>\n",
       "      <td>Москва</td>\n",
       "      <td>Эконом</td>\n",
       "      <td>4,65</td>\n",
       "      <td>Да</td>\n",
       "      <td>4497</td>\n",
       "      <td>4595</td>\n",
       "      <td>2870</td>\n",
       "      <td>Нет</td>\n",
       "      <td>р.0,00</td>\n",
       "      <td>Шамиль</td>\n",
       "      <td>Нет</td>\n",
       "    </tr>\n",
       "    <tr>\n",
       "      <th>3</th>\n",
       "      <td>4504</td>\n",
       "      <td>2019</td>\n",
       "      <td>Москва</td>\n",
       "      <td>Эконом</td>\n",
       "      <td>4,66</td>\n",
       "      <td>Да</td>\n",
       "      <td>4321</td>\n",
       "      <td>4431</td>\n",
       "      <td>3445</td>\n",
       "      <td>Нет</td>\n",
       "      <td>р.0,00</td>\n",
       "      <td>Иван</td>\n",
       "      <td>Нет</td>\n",
       "    </tr>\n",
       "    <tr>\n",
       "      <th>4</th>\n",
       "      <td>4505</td>\n",
       "      <td>2022</td>\n",
       "      <td>Москва</td>\n",
       "      <td>Эконом</td>\n",
       "      <td>4,67</td>\n",
       "      <td>Да</td>\n",
       "      <td>4289</td>\n",
       "      <td>4621</td>\n",
       "      <td>4839</td>\n",
       "      <td>Нет</td>\n",
       "      <td>р.0,00</td>\n",
       "      <td>Александр</td>\n",
       "      <td>Нет</td>\n",
       "    </tr>\n",
       "  </tbody>\n",
       "</table>\n",
       "</div>"
      ],
      "text/plain": [
       "     id  date    city  tariff rating complains  nov_trips  oct_trips  \\\n",
       "0  4501  2019  Москва  Эконом   4,63        Да       5257       2974   \n",
       "1  4502  2021  Москва  Эконом   4,64        Да       4691       5076   \n",
       "2  4503  2016  Москва  Эконом   4,65        Да       4497       4595   \n",
       "3  4504  2019  Москва  Эконом   4,66        Да       4321       4431   \n",
       "4  4505  2022  Москва  Эконом   4,67        Да       4289       4621   \n",
       "\n",
       "   sep_trips tips tips_sum_nov        name top_driver  \n",
       "0       4061  Нет       р.0,00     Евгений        Нет  \n",
       "1       3899  Нет       р.0,00  Константин        Нет  \n",
       "2       2870  Нет       р.0,00      Шамиль        Нет  \n",
       "3       3445  Нет       р.0,00        Иван        Нет  \n",
       "4       4839  Нет       р.0,00   Александр        Нет  "
      ]
     },
     "execution_count": 24,
     "metadata": {},
     "output_type": "execute_result"
    }
   ],
   "source": [
    "import pandas as pd\n",
    "import numpy as np\n",
    "import matplotlib.pyplot as plt\n",
    "\n",
    "drivers = pd.read_csv('Downloads/DRIVERMARKETING_04 - Лист1-8.csv')\n",
    "drivers.head()"
   ]
  },
  {
   "cell_type": "code",
   "execution_count": 31,
   "id": "79d1c9b4",
   "metadata": {},
   "outputs": [
    {
     "data": {
      "text/plain": [
       "date\n",
       "2010    3662.000000\n",
       "2015    4096.000000\n",
       "2016    3674.800000\n",
       "2017    3510.714286\n",
       "2018    3572.250000\n",
       "2019    3691.578947\n",
       "2020    3299.459016\n",
       "2021    3649.017857\n",
       "2022    3532.551724\n",
       "Name: nov_trips, dtype: float64"
      ]
     },
     "execution_count": 31,
     "metadata": {},
     "output_type": "execute_result"
    }
   ],
   "source": [
    "trips = drivers.groupby(drivers['date'])['nov_trips'].mean()\n",
    "trips"
   ]
  },
  {
   "cell_type": "code",
   "execution_count": 33,
   "id": "41919a06",
   "metadata": {},
   "outputs": [
    {
     "data": {
      "text/plain": [
       "<BarContainer object of 9 artists>"
      ]
     },
     "execution_count": 33,
     "metadata": {},
     "output_type": "execute_result"
    },
    {
     "data": {
      "image/png": "[encoded data removed]",
      "text/plain": [
       "<Figure size 640x480 with 1 Axes>"
      ]
     },
     "metadata": {},
     "output_type": "display_data"
    }
   ],
   "source": [
    "plt.bar(trips.index, trips, color='pink')"
   ]
  },
  {
   "cell_type": "code",
   "execution_count": 37,
   "id": "5cae488c",
   "metadata": {},
   "outputs": [
    {
     "data": {
      "text/plain": [
       "date\n",
       "2010      3662\n",
       "2015      4096\n",
       "2016     18374\n",
       "2017     24575\n",
       "2018     71445\n",
       "2019     70140\n",
       "2020    201267\n",
       "2021    204345\n",
       "2022    102444\n",
       "Name: nov_trips, dtype: int64"
      ]
     },
     "execution_count": 37,
     "metadata": {},
     "output_type": "execute_result"
    }
   ],
   "source": [
    "drivers_trips = drivers.groupby(drivers['date'])['nov_trips'].sum()\n",
    "drivers_trips"
   ]
  },
  {
   "cell_type": "code",
   "execution_count": 39,
   "id": "d058b9be",
   "metadata": {},
   "outputs": [
    {
     "data": {
      "text/plain": [
       "[<matplotlib.lines.Line2D at 0x7f93c83a7f70>]"
      ]
     },
     "execution_count": 39,
     "metadata": {},
     "output_type": "execute_result"
    },
    {
     "data": {
      "image/png": "[encoded data removed]",
      "text/plain": [
       "<Figure size 1000x800 with 1 Axes>"
      ]
     },
     "metadata": {},
     "output_type": "display_data"
    }
   ],
   "source": [
    "fig, ax = plt.subplots(figsize=(10,8))\n",
    "ax.plot(drivers_trips)"
   ]
  }
 ],
 "metadata": {
  "kernelspec": {
   "display_name": "Python 3 (ipykernel)",
   "language": "python",
   "name": "python3"
  },
  "language_info": {
   "codemirror_mode": {
    "name": "ipython",
    "version": 3
   },
   "file_extension": ".py",
   "mimetype": "text/x-python",
   "name": "python",
   "nbconvert_exporter": "python",
   "pygments_lexer": "ipython3",
   "version": "3.9.13"
  }
 },
 "nbformat": 4,
 "nbformat_minor": 5
}
